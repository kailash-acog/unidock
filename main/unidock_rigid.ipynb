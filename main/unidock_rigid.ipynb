{
 "cells": [
  {
   "cell_type": "markdown",
   "id": "6bd2ccfe-96eb-4cf9-a56a-7055a25eb45c",
   "metadata": {},
   "source": [
    "<div style=\"display: flex; align-items: center;\">\n",
    "    <span style=\"font-size: 24px; color: #003366; font-weight: 500;\">Uni-Dock Pipeline</span>\n",
    "    <img src=\"z_docking_files/logo.jpg\" style=\"height: 50px; width: auto; margin-left: auto;\"/>\n",
    "</div>"
   ]
  },
  {
   "cell_type": "markdown",
   "id": "781883f8-98c1-4b89-b71f-86e0e26ba8c6",
   "metadata": {},
   "source": [
    "#### Import Necessary Libraries and Modules"
   ]
  },
  {
   "cell_type": "code",
   "execution_count": null,
   "id": "d7736484-484b-4c67-8f80-d5ee107170f4",
   "metadata": {},
   "outputs": [],
   "source": [
    "import os\n",
    "import re\n",
    "import csv \n",
    "import sys\n",
    "import time\n",
    "import math\n",
    "import torch\n",
    "import random\n",
    "import shutil\n",
    "import psutil\n",
    "import string\n",
    "import logging\n",
    "import subprocess\n",
    "import pandas as pd\n",
    "import concurrent.futures\n",
    "import ipywidgets as widgets\n",
    "import multiprocessing as mp\n",
    "\n",
    "from glob import glob\n",
    "from typing import Optional, List\n",
    "from IPython.display import display\n",
    "from rdkit import Chem, DataStructs\n",
    "from z_docking_files.utils import *\n",
    "from openbabel import openbabel, pybel\n",
    "from multiprocessing import Pool, cpu_count\n",
    "from concurrent.futures import ThreadPoolExecutor\n",
    "from rdkit.Chem import AllChem, Descriptors, Draw "
   ]
  },
  {
   "cell_type": "code",
   "execution_count": null,
   "id": "2b50d84c-159e-4694-834b-e5917c6afccf",
   "metadata": {},
   "outputs": [],
   "source": [
    "device = check_availability()"
   ]
  },
  {
   "cell_type": "markdown",
   "id": "22a0a445-40d7-463b-95a1-a074a3fc5bc7",
   "metadata": {},
   "source": [
    "<div style=\"background-color:#4B6587; color:#F0E5CF; padding: 1px; border-radius: 10px;\">\n",
    "    <h2 style=\"font-size: 16px; margin-left: 10px;\"> Step 1. Load Data </h2>\n",
    "</div>"
   ]
  },
  {
   "cell_type": "code",
   "execution_count": null,
   "id": "99183694-bdb3-4d2e-8020-00ada5854e23",
   "metadata": {},
   "outputs": [],
   "source": [
    "start_time = time.time()\n",
    "folder_name = \"brd4_hll\"\n",
    "pdb_file = \"brd4.pdb\"  \n",
    "pdbqt_file = \"brd4.pdbqt\"\n",
    "input_csv = \"input.csv\"\n",
    "threshold = 'dynamic'"
   ]
  },
  {
   "cell_type": "code",
   "execution_count": null,
   "id": "58907be4-38f5-4cc7-9ef8-6fd67ede919f",
   "metadata": {},
   "outputs": [],
   "source": [
    "os.makedirs(os.path.join(folder_name, \"pipeline_files\", \"execution_time\"), exist_ok=True)"
   ]
  },
  {
   "cell_type": "code",
   "execution_count": null,
   "id": "329a8723-4069-41ac-859d-f39e33df197e",
   "metadata": {},
   "outputs": [],
   "source": [
    "input_smiles = os.path.join(folder_name, input_csv)\n",
    "df = pd.read_csv(input_smiles)\n",
    "\n",
    "df_salt = df[df['SMILES'].str.contains('\\.')].copy()\n",
    "print(f\"\\033[1m\\033[34mNumber of salted compounds: \\033[91m{len(df_salt)}\\033[0m\")\n",
    "df_salt.to_csv(f'{folder_name}/salted_compounds.csv', index=False)\n",
    "\n",
    "df_no_salt = df[~df['SMILES'].str.contains('\\.')]\n",
    "display(df_no_salt.tail())\n",
    "print(df_no_salt.shape)"
   ]
  },
  {
   "cell_type": "markdown",
   "id": "1d2a628a-c06e-43ce-9fe8-f146a1c80954",
   "metadata": {},
   "source": [
    "<div style=\"background-color:#4B6587; color:#F0E5CF; padding: 1px; border-radius: 10px;\">\n",
    "    <h2 style=\"font-size: 16px; margin-left: 10px;\"> Step 2. SMILES to SDF </h2>\n",
    "</div>"
   ]
  },
  {
   "cell_type": "code",
   "execution_count": null,
   "id": "d69087e1-3be7-4428-8054-997c1355d276",
   "metadata": {},
   "outputs": [],
   "source": [
    "start_time1 = time.time()\n",
    "\n",
    "output_sdf = os.path.join(folder_name, \"pipeline_files/1_sdf\")\n",
    "os.makedirs(os.path.join(folder_name, \"pipeline_files\", \"1_sdf\"), exist_ok=True)\n",
    "\n",
    "convert_smiles_to_sdf_parallel(df_no_salt, output_sdf, num_conformations=10)\n",
    "\n",
    "end_time1 = time.time()\n",
    "elapsed_time_minutes = round((end_time1 - start_time1)/60, 2)\n",
    "file_path = os.path.join(folder_name, \"pipeline_files/execution_time/1_smiles_to_sdf.txt\")\n",
    "with open(file_path, \"w\") as file:\n",
    "    file.write(f\"{elapsed_time_minutes} minutes\")"
   ]
  },
  {
   "cell_type": "markdown",
   "id": "e2600fe8-a6ae-4450-a1b5-33ec18516d93",
   "metadata": {},
   "source": [
    "<div style=\"background-color:#4B6587; color:#F0E5CF; padding: 1px; border-radius: 10px;\">\n",
    "    <h2 style=\"font-size: 16px; margin-left: 10px;\"> Step 3. SDF to Mol2 and Mol2 to PDBQT </h2>\n",
    "</div>"
   ]
  },
  {
   "cell_type": "code",
   "execution_count": null,
   "id": "f697a3a0-6a4b-40c3-b185-795ad58cf25f",
   "metadata": {},
   "outputs": [],
   "source": [
    "start_time2 = time.time()\n",
    "\n",
    "script_path = os.path.join(\"z_docking_files\", \"1_sdf_to_pdbqt.sh\")\n",
    "result = subprocess.run([\"/bin/bash\", script_path, folder_name])\n",
    "print(result.stderr)\n",
    "\n",
    "end_time2 = time.time()\n",
    "elapsed_time_minutes = round((end_time2 - start_time2)/60, 2)\n",
    "file_path = os.path.join(folder_name, \"pipeline_files/execution_time/2_sdf_to_pdbqt.txt\")\n",
    "with open(file_path, \"w\") as file:\n",
    "    file.write(f\"{elapsed_time_minutes} minutes\")"
   ]
  },
  {
   "cell_type": "markdown",
   "id": "86f5a451-790f-4c73-9fb3-e3ab0442c9c1",
   "metadata": {},
   "source": [
    "<div style=\"background-color:#4B6587; color:#F0E5CF; padding: 1px; border-radius: 10px;\">\n",
    "    <h2 style=\"font-size: 16px; margin-left: 10px;\"> Step 4. PDBQT Filter  </h2>\n",
    "</div>"
   ]
  },
  {
   "cell_type": "code",
   "execution_count": null,
   "id": "e54e8a09-5049-48c6-93f1-11544b7462f0",
   "metadata": {},
   "outputs": [],
   "source": [
    "start_time3 = time.time()\n",
    "\n",
    "script_path = os.path.join(\"z_docking_files\", \"2_pdbqt_to_smiles.sh\")\n",
    "result = subprocess.run([\"/bin/bash\", script_path, folder_name], stdout=subprocess.PIPE, stderr=subprocess.PIPE, text=True)\n",
    "print(result.stdout)"
   ]
  },
  {
   "cell_type": "code",
   "execution_count": null,
   "id": "a50ea1fb-37ab-49d0-8aed-5b414fb5db82",
   "metadata": {
    "scrolled": true
   },
   "outputs": [],
   "source": [
    "check_pdbqt_files(folder_name, input_smiles)\n",
    "copy_correct_pdbqt_files(folder_name, input_smiles)\n",
    "\n",
    "end_time3 = time.time()\n",
    "elapsed_time_minutes = round((end_time3 - start_time3)/60, 2)\n",
    "file_path = os.path.join(folder_name, \"pipeline_files/execution_time/3_pdbqt_filter_using_tanimoto.txt\")\n",
    "with open(file_path, \"w\") as file:\n",
    "    file.write(f\"{elapsed_time_minutes} minutes\")"
   ]
  },
  {
   "cell_type": "markdown",
   "id": "5637e86f-5909-456d-9755-054387387f39",
   "metadata": {},
   "source": [
    "<div style=\"background-color:#8E44AD; color:#ECF0F1; padding: 1px; border-radius: 10px;\">\n",
    "    <h2 style=\"font-size: 16px; margin-left: 10px;\"> Step 5. Uni-Dock Docking </h2>\n",
    "</div>"
   ]
  },
  {
   "cell_type": "code",
   "execution_count": null,
   "id": "61c4d6b3-064a-427f-94f6-7c94d7d0b408",
   "metadata": {},
   "outputs": [],
   "source": [
    "start_time4 = time.time()\n",
    "\n",
    "protein = os.path.join(folder_name, pdbqt_file)\n",
    "num_batches = create_ligands_path_batchwise(folder_name)\n",
    "ligand_batches = [f\"unidock_pdbqt_batch_{i+1}.txt\" for i in range(num_batches)]  \n",
    "output_result_base = os.path.join(folder_name, \"pipeline_files/6_pdbqt_out\")\n",
    "os.makedirs(output_result_base, exist_ok=True)\n",
    "\n",
    "for i, ligands_batch_file in enumerate(ligand_batches):\n",
    "    protein = os.path.join(folder_name, pdbqt_file)\n",
    "    ligands_path = os.path.join(folder_name, \"pipeline_files\", ligands_batch_file)\n",
    "    output_result_pdbqt = output_result_base\n",
    "    batch_output_logs = os.path.join(folder_name, f\"pipeline_files/unidock_output_batch_{i+1}.txt\")\n",
    "    open(batch_output_logs, 'w').close()\n",
    "    with open(ligands_path, \"r\") as batch_file:\n",
    "        ligands = batch_file.read().strip()\n",
    "\n",
    "    unidock_command = (\n",
    "        f\"unidock \"\n",
    "        f\"--receptor {protein} \"\n",
    "        f\"--gpu_batch $(cat {ligands_path}) \"\n",
    "        f\"--search_mode detail \"\n",
    "        f\"--scoring vina \"\n",
    "        f\"--center_x 86.79 \"\n",
    "        f\"--center_y 43.89 \"\n",
    "        f\"--center_z 65.43 \"\n",
    "        f\"--size_x 20.00 \"\n",
    "        f\"--size_y 20.00 \"\n",
    "        f\"--size_z 20.00 \"\n",
    "        f\"--num_modes 10 \"\n",
    "        f\"--dir {output_result_pdbqt} \"\n",
    "        f\">> {batch_output_logs} 2>&1\"\n",
    "    )\n",
    "\n",
    "    os.system(unidock_command)\n",
    "    print(f\"Docking Process completed for Batch_{i+1}\")\n",
    "\n",
    "print(\"\\033[1m\\033[34mDocking Process completed for all Batches and files saved in folder: \\033[91m{}\\033[0m\".format(output_result_pdbqt))\n",
    "\n",
    "end_time4 = time.time()\n",
    "elapsed_time_minutes = round((end_time4 - start_time4)/60, 2)\n",
    "file_path = os.path.join(folder_name, \"pipeline_files/execution_time/4_docking.txt\")\n",
    "with open(file_path, \"w\") as file:\n",
    "    file.write(f\"{elapsed_time_minutes} minutes\")"
   ]
  },
  {
   "cell_type": "markdown",
   "id": "ae0aed6a-8ab0-4ee8-8756-6c055ccd0850",
   "metadata": {},
   "source": [
    "<div style=\"background-color:#4B6587; color:#F0E5CF; padding: 1px; border-radius: 10px;\">\n",
    "    <h2 style=\"font-size: 16px; margin-left: 10px;\"> Step 6. Extract Affinity values </h2>\n",
    "</div>"
   ]
  },
  {
   "cell_type": "code",
   "execution_count": null,
   "id": "8c077b10-c3ff-43b5-8fe4-407a79c48957",
   "metadata": {},
   "outputs": [],
   "source": [
    "affinity_from_pdbqt_files(folder_name)"
   ]
  },
  {
   "cell_type": "markdown",
   "id": "a78a4575-fe3f-4a72-bbf9-3fbb0b182e92",
   "metadata": {},
   "source": [
    "<div style=\"background-color:#4B6587; color:#F0E5CF; padding: 1px; border-radius: 10px;\">\n",
    "    <h2 style=\"font-size: 16px; margin-left: 10px;\"> Step 7. Extract Compounds based on Affinity threshold </h2>\n",
    "</div>"
   ]
  },
  {
   "cell_type": "code",
   "execution_count": null,
   "id": "531eb9e7-3bcf-4392-9468-7f6362db8dc5",
   "metadata": {},
   "outputs": [],
   "source": [
    "extraction_based_on_threshold(folder_name, threshold)\n",
    "extract_model1(folder_name)"
   ]
  },
  {
   "cell_type": "markdown",
   "id": "8a67b5a7-ffe1-4aa3-9edd-702c3374850c",
   "metadata": {},
   "source": [
    "<div style=\"background-color:#4B6587; color:#F0E5CF; padding: 1px; border-radius: 10px;\">\n",
    "    <h2 style=\"font-size: 16px; margin-left: 10px;\"> Step 8. PDBQT to Mol2 and Mol2 to SDF</h2>\n",
    "</div>"
   ]
  },
  {
   "cell_type": "code",
   "execution_count": null,
   "id": "228a8410-257d-4153-b940-4416a48335ed",
   "metadata": {},
   "outputs": [],
   "source": [
    "start_time5 = time.time()\n",
    "\n",
    "script_path = os.path.join(\"z_docking_files\", \"3_pdbqt_to_sdf.sh\")\n",
    "result = subprocess.run([\"/bin/bash\", script_path, folder_name])\n",
    "print(result.stderr)\n",
    "\n",
    "\n",
    "end_time5 = time.time()\n",
    "elapsed_time_minutes = round((end_time5 - start_time5)/60, 2)\n",
    "file_path = os.path.join(folder_name, \"pipeline_files/execution_time/5_pdbqt_to_sdf.txt\")\n",
    "with open(file_path, \"w\") as file:\n",
    "    file.write(f\"{elapsed_time_minutes} minutes\")"
   ]
  },
  {
   "cell_type": "markdown",
   "id": "cd6ac5c1-bef8-4b3a-ae1d-7120e40130c8",
   "metadata": {},
   "source": [
    "<div style=\"background-color:#4B6587; color:#F0E5CF; padding: 1px; border-radius: 10px;\">\n",
    "    <h2 style=\"font-size: 16px; margin-left: 10px;\"> Step 9. PoseBusters Filter </h2>\n",
    "</div>"
   ]
  },
  {
   "cell_type": "code",
   "execution_count": null,
   "id": "f8d87b16-0d47-492a-876a-3d3a452cc75d",
   "metadata": {},
   "outputs": [],
   "source": [
    "start_time6 = time.time()\n",
    "\n",
    "script_path = os.path.join(\"z_docking_files\", \"4_posebusters_filter.sh\")\n",
    "result = subprocess.run([\"/bin/bash\", script_path, folder_name, pdb_file])\n",
    "print(result.stdout)\n",
    "\n",
    "end_time6 = time.time()\n",
    "elapsed_time_minutes = round((end_time6 - start_time6)/60, 4)\n",
    "file_path = os.path.join(folder_name, \"pipeline_files/execution_time/6_posebusters_filter.txt\")\n",
    "with open(file_path, \"w\") as file:\n",
    "    file.write(f\"{elapsed_time_minutes} minutes\")"
   ]
  },
  {
   "cell_type": "code",
   "execution_count": null,
   "id": "3f11c153-087c-4833-85f0-6e1325c7c00d",
   "metadata": {},
   "outputs": [],
   "source": [
    "process_pb_csv(folder_name)\n",
    "final_output(folder_name, input_smiles, passes=19)"
   ]
  },
  {
   "cell_type": "code",
   "execution_count": null,
   "id": "23b2ecca-4f91-4241-bdea-3b695789211f",
   "metadata": {},
   "outputs": [],
   "source": [
    "end_time = time.time()\n",
    "elapsed_time_minutes = round((end_time - start_time)/60, 1)\n",
    "\n",
    "file_path = os.path.join(folder_name, \"pipeline_files/execution_time/total_execution_time.txt\")\n",
    "with open(file_path, \"w\") as file:\n",
    "    file.write(f\"{elapsed_time_minutes} minutes\")\n",
    "print(f\"\\033[1m\\033[34mTotal execution time (minutes): \\033[91m{elapsed_time_minutes}\\033[0m\")"
   ]
  },
  {
   "cell_type": "markdown",
   "id": "ea5a1916-73aa-47a3-8858-e13bcbc9c6bc",
   "metadata": {},
   "source": [
    "."
   ]
  },
  {
   "cell_type": "markdown",
   "id": "a5a80793-cb08-4f78-b775-641b0522d593",
   "metadata": {},
   "source": [
    "<div style=\"background-color:#4B6587; color:#F0E5CF; padding: 3px; border-radius: 10px;\">\n",
    "</div>"
   ]
  },
  {
   "cell_type": "markdown",
   "id": "4f3194cc-b9ee-4c48-880a-4ad1b5133e1e",
   "metadata": {},
   "source": [
    "#### Check SDF File"
   ]
  },
  {
   "cell_type": "code",
   "execution_count": null,
   "id": "88702e87-0cd8-49b4-a47f-e1c6b96ac185",
   "metadata": {},
   "outputs": [],
   "source": [
    "# sdf_file_path = os.path.join(folder_name, \"pipeline_files/ligands_sdf/CHEMBL1958347.sdf\")\n",
    "# process_sdf_file(sdf_file_path)"
   ]
  },
  {
   "cell_type": "markdown",
   "id": "7f50f025-733e-43fb-8ac6-e77dd40d40ac",
   "metadata": {},
   "source": [
    "#### Check PDBQT File"
   ]
  },
  {
   "cell_type": "code",
   "execution_count": null,
   "id": "f0771afb-ee80-4ba6-bf08-84448722f8fd",
   "metadata": {},
   "outputs": [],
   "source": [
    "# file_path = os.path.join(folder_name, \"pipeline_files/ligands_pdbqt_out/BB_44_out.pdbqt\")\n",
    "# print(''.join(open(file_path, 'r').readlines()))"
   ]
  },
  {
   "cell_type": "markdown",
   "id": "f4f8a245-e457-4cfc-8c99-4c860be84a9d",
   "metadata": {},
   "source": [
    "#### Check Molecule Structure File"
   ]
  },
  {
   "cell_type": "code",
   "execution_count": null,
   "id": "6c287e58-aeef-4cf7-a260-49f3896da963",
   "metadata": {},
   "outputs": [],
   "source": [
    "# mol = Chem.MolFromSmiles('C[C@@H]1CNC(=O)C2(CNC2)C/C=C/CN(C)S(=O)(=O)c2cccc(c2)C(=O)N1.OC(=O)C(F)(F)F')\n",
    "# img = Draw.MolToImage(mol, size=(600, 600))\n",
    "# display(img)"
   ]
  },
  {
   "cell_type": "code",
   "execution_count": null,
   "id": "ba82d166-29af-4cce-b375-31b3b300f28b",
   "metadata": {},
   "outputs": [],
   "source": [
    "# df11 = pd.read_csv('minD_antibact_obabel/output.csv')\n",
    "# df11.head()"
   ]
  },
  {
   "cell_type": "code",
   "execution_count": null,
   "id": "ffb6ded2-7ab8-4ffd-b838-e8256861d443",
   "metadata": {},
   "outputs": [],
   "source": [
    "# df12 = df11[df11['SMILES'].str.startswith('Cl.')]\n",
    "# df12.head()"
   ]
  }
 ],
 "metadata": {
  "kernelspec": {
   "display_name": "Python 3 (ipykernel)",
   "language": "python",
   "name": "python3"
  },
  "language_info": {
   "codemirror_mode": {
    "name": "ipython",
    "version": 3
   },
   "file_extension": ".py",
   "mimetype": "text/x-python",
   "name": "python",
   "nbconvert_exporter": "python",
   "pygments_lexer": "ipython3",
   "version": "3.8.10"
  }
 },
 "nbformat": 4,
 "nbformat_minor": 5
}
