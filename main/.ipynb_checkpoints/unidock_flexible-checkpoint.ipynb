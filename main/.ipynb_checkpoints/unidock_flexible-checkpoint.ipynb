{
 "cells": [
  {
   "cell_type": "code",
   "execution_count": 1,
   "id": "d58f98cc-b03e-4570-b221-84494cc3abf9",
   "metadata": {},
   "outputs": [],
   "source": [
    "import os\n",
    "import re\n",
    "import csv \n",
    "import sys\n",
    "import time\n",
    "import math\n",
    "import torch\n",
    "import random\n",
    "import shutil\n",
    "import psutil\n",
    "import string\n",
    "import logging\n",
    "import subprocess\n",
    "import pandas as pd\n",
    "import concurrent.futures\n",
    "import ipywidgets as widgets\n",
    "import multiprocessing as mp\n",
    "\n",
    "from glob import glob\n",
    "from typing import Optional, List\n",
    "from IPython.display import display\n",
    "from rdkit import Chem, DataStructs\n",
    "from z_docking_files.utils import *\n",
    "from openbabel import openbabel, pybel\n",
    "from multiprocessing import Pool, cpu_count\n",
    "from concurrent.futures import ThreadPoolExecutor\n",
    "from rdkit.Chem import AllChem, Descriptors, Draw "
   ]
  },
  {
   "cell_type": "code",
   "execution_count": 2,
   "id": "b17cd385-740f-4627-b98c-93332328a224",
   "metadata": {},
   "outputs": [
    {
     "name": "stdout",
     "output_type": "stream",
     "text": [
      "\u001b[1m\u001b[34mGPU availability in own5: \u001b[91m95.00%\u001b[0m\n",
      "\u001b[1m\u001b[34mCPU availability in own5: \u001b[91m72.40%\u001b[0m\n"
     ]
    }
   ],
   "source": [
    "device = check_availability()"
   ]
  },
  {
   "cell_type": "markdown",
   "id": "cdfb115a-5446-468a-9f97-d80cc32781ac",
   "metadata": {},
   "source": [
    "<div style=\"background-color:#4B6587; color:#F0E5CF; padding: 1px; border-radius: 10px;\">\n",
    "    <h2 style=\"font-size: 16px; margin-left: 10px;\"> Step 1. Load Data </h2>\n",
    "</div>"
   ]
  },
  {
   "cell_type": "code",
   "execution_count": 3,
   "id": "cd4fa608-334f-4bac-9fab-b767d801fc40",
   "metadata": {},
   "outputs": [],
   "source": [
    "folder_name = \"brd4_hll\"\n",
    "pdb_file = \"brd4.pdb\"  \n",
    "pdbqt_rigid = \"brd4_rigid.pdbqt\"\n",
    "pdbqt_flex = \"brd4_flex.pdbqt\"\n",
    "input_csv = \"output.csv\"\n",
    "threshold = -9.5"
   ]
  },
  {
   "cell_type": "code",
   "execution_count": 4,
   "id": "eaa06713-1eee-4dbd-b1d0-3067d94ca91d",
   "metadata": {},
   "outputs": [],
   "source": [
    "flex_folder_name = folder_name + \"_flexible\"\n",
    "os.makedirs(os.path.join(flex_folder_name), exist_ok=True)"
   ]
  },
  {
   "cell_type": "code",
   "execution_count": 5,
   "id": "dc841045-2ebc-4301-be2f-31e75980dd51",
   "metadata": {},
   "outputs": [
    {
     "data": {
      "text/html": [
       "<div>\n",
       "<style scoped>\n",
       "    .dataframe tbody tr th:only-of-type {\n",
       "        vertical-align: middle;\n",
       "    }\n",
       "\n",
       "    .dataframe tbody tr th {\n",
       "        vertical-align: top;\n",
       "    }\n",
       "\n",
       "    .dataframe thead th {\n",
       "        text-align: right;\n",
       "    }\n",
       "</style>\n",
       "<table border=\"1\" class=\"dataframe\">\n",
       "  <thead>\n",
       "    <tr style=\"text-align: right;\">\n",
       "      <th></th>\n",
       "      <th>Name</th>\n",
       "      <th>SMILES</th>\n",
       "      <th>Affinity</th>\n",
       "    </tr>\n",
       "  </thead>\n",
       "  <tbody>\n",
       "    <tr>\n",
       "      <th>0</th>\n",
       "      <td>brd4_chemdiv4079</td>\n",
       "      <td>c1(c(c2c(o1)c(c1c(c(cc(=O)o1)c1ccccc1)c2)C)c1c...</td>\n",
       "      <td>-10.977</td>\n",
       "    </tr>\n",
       "    <tr>\n",
       "      <th>1</th>\n",
       "      <td>brd4_chemdiv1637</td>\n",
       "      <td>c12c(S(=O)(=O)c3ccc(cc3)Br)nnn1c1c(c(n2)Nc2cc(...</td>\n",
       "      <td>-10.937</td>\n",
       "    </tr>\n",
       "    <tr>\n",
       "      <th>2</th>\n",
       "      <td>brd4_chemdiv1638</td>\n",
       "      <td>c12c(S(=O)(=O)c3ccc(cc3)Br)nnn1c1c(c(n2)Nc2cc(...</td>\n",
       "      <td>-10.903</td>\n",
       "    </tr>\n",
       "    <tr>\n",
       "      <th>3</th>\n",
       "      <td>brd4_chemdiv1636</td>\n",
       "      <td>c12c(S(=O)(=O)c3ccc(cc3)Br)nnn1c1c(c(n2)Nc2c(c...</td>\n",
       "      <td>-10.872</td>\n",
       "    </tr>\n",
       "    <tr>\n",
       "      <th>4</th>\n",
       "      <td>brd4_chemdiv1318</td>\n",
       "      <td>n12c(nnc2C)c2c(c(n1)c1cc(S(=O)(=O)N3CCOCC3)c(c...</td>\n",
       "      <td>-10.812</td>\n",
       "    </tr>\n",
       "  </tbody>\n",
       "</table>\n",
       "</div>"
      ],
      "text/plain": [
       "               Name                                             SMILES  \\\n",
       "0  brd4_chemdiv4079  c1(c(c2c(o1)c(c1c(c(cc(=O)o1)c1ccccc1)c2)C)c1c...   \n",
       "1  brd4_chemdiv1637  c12c(S(=O)(=O)c3ccc(cc3)Br)nnn1c1c(c(n2)Nc2cc(...   \n",
       "2  brd4_chemdiv1638  c12c(S(=O)(=O)c3ccc(cc3)Br)nnn1c1c(c(n2)Nc2cc(...   \n",
       "3  brd4_chemdiv1636  c12c(S(=O)(=O)c3ccc(cc3)Br)nnn1c1c(c(n2)Nc2c(c...   \n",
       "4  brd4_chemdiv1318  n12c(nnc2C)c2c(c(n1)c1cc(S(=O)(=O)N3CCOCC3)c(c...   \n",
       "\n",
       "   Affinity  \n",
       "0   -10.977  \n",
       "1   -10.937  \n",
       "2   -10.903  \n",
       "3   -10.872  \n",
       "4   -10.812  "
      ]
     },
     "metadata": {},
     "output_type": "display_data"
    },
    {
     "name": "stdout",
     "output_type": "stream",
     "text": [
      "(292, 3)\n"
     ]
    }
   ],
   "source": [
    "input_smiles = os.path.join(folder_name, input_csv)\n",
    "df = pd.read_csv(input_smiles)\n",
    "df = df[df['Affinity'] < threshold]\n",
    "df.to_csv(os.path.join(flex_folder_name, 'output.csv'), index=False)\n",
    "display(df.head())\n",
    "print(df.shape)"
   ]
  },
  {
   "cell_type": "markdown",
   "id": "0e186d9a-91ad-4ad8-9438-6e069c7ed00b",
   "metadata": {},
   "source": [
    "<div style=\"background-color:#4B6587; color:#F0E5CF; padding: 1px; border-radius: 10px;\">\n",
    "    <h2 style=\"font-size: 16px; margin-left: 10px;\"> Step 2. Copy PDBQT files and Create ligands path </h2>\n",
    "</div>"
   ]
  },
  {
   "cell_type": "code",
   "execution_count": 6,
   "id": "6b33e29d-e419-4058-9b79-250a79042d01",
   "metadata": {},
   "outputs": [],
   "source": [
    "copy_pdbqt_files_flex(df, folder_name, flex_folder_name)\n",
    "create_ligands_path_flex(flex_folder_name)"
   ]
  },
  {
   "cell_type": "markdown",
   "id": "2958738c-3f09-4f3b-9049-df22440ea6d8",
   "metadata": {},
   "source": [
    "<div style=\"background-color:#8E44AD; color:#ECF0F1; padding: 1px; border-radius: 10px;\">\n",
    "    <h2 style=\"font-size: 16px; margin-left: 10px;\"> Step 3. Uni-Dock Flexible Docking </h2>\n",
    "</div>"
   ]
  },
  {
   "cell_type": "code",
   "execution_count": 7,
   "id": "46b4e099-4a7f-4c2b-9c6b-da2cd79cc6cc",
   "metadata": {},
   "outputs": [
    {
     "name": "stdout",
     "output_type": "stream",
     "text": [
      "\u001b[1m\u001b[34mCheck Docking Progress... \u001b[91m$brd4_hll_flexible/pipeline_files/unidock_output.txt\u001b[0m\n",
      "\u001b[1m\u001b[34mDocking Process completed\u001b[0m\n"
     ]
    }
   ],
   "source": [
    "protein_rigid = os.path.join(folder_name, pdbqt_rigid)\n",
    "protein_flex = os.path.join(folder_name, pdbqt_flex)\n",
    "\n",
    "ligands_path = os.path.join(flex_folder_name, \"pipeline_files/unidock_pdbqt_path.txt\")\n",
    "\n",
    "output_result = os.path.join(flex_folder_name, \"pipeline_files/2_pdbqt_out_flex\")\n",
    "os.makedirs(output_result, exist_ok=True)\n",
    "\n",
    "output_logs = os.path.join(flex_folder_name, \"pipeline_files/unidock_output.txt\")\n",
    "os.system(\"touch \" + output_logs)\n",
    "print(f\"\\033[1m\\033[34mCheck Docking Progress... \\033[91m${output_logs}\\033[0m\")\n",
    "unidock_command = (\n",
    "    f\"unidock \"\n",
    "    f\"--receptor {protein_rigid} \"\n",
    "    f\"--gpu_batch $(cat {ligands_path}) \"\n",
    "    f\"--search_mode detail \"\n",
    "    f\"--scoring vina \"\n",
    "    f\"--center_x 86.79 \"\n",
    "    f\"--center_y 43.89 \"\n",
    "    f\"--center_z 65.43 \"\n",
    "    f\"--size_x 20.00 \"\n",
    "    f\"--size_y 20.00 \"\n",
    "    f\"--size_z 20.00 \"\n",
    "    f\"--num_modes 10 \"\n",
    "    f\"--dir {output_result} \"\n",
    "    f\">> {output_logs} 2>&1\"\n",
    ")\n",
    "\n",
    "os.system(unidock_command)\n",
    "print(f\"\\033[1m\\033[34mDocking Process completed\\033[0m\")"
   ]
  },
  {
   "cell_type": "markdown",
   "id": "7a517313-3ee6-489a-b6cb-1a89eaf57be3",
   "metadata": {},
   "source": [
    "<div style=\"background-color:#4B6587; color:#F0E5CF; padding: 1px; border-radius: 10px;\">\n",
    "    <h2 style=\"font-size: 16px; margin-left: 10px;\"> Step 4. Extract Affinity values and Model1 Content </h2>\n",
    "</div>"
   ]
  },
  {
   "cell_type": "code",
   "execution_count": 8,
   "id": "40ebd533-a7db-45ee-ad08-02cebc4e87a5",
   "metadata": {},
   "outputs": [
    {
     "name": "stdout",
     "output_type": "stream",
     "text": [
      "\u001b[1m\u001b[34mAffnity values extracted and saved in folder: \u001b[91mbrd4_hll_flexible/pipeline_files/1_extract_affinity_from_pdbqt.csv\u001b[0m\n",
      "\u001b[1m\u001b[34mExtracted Model_1 content and saved in folder: \u001b[91mbrd4_hll_flexible/pipeline_files/3_pdbqt_out_flex_m1\u001b[0m\n"
     ]
    }
   ],
   "source": [
    "affinity_from_pdbqt_files_flex(flex_folder_name)\n",
    "extract_model1_flex(flex_folder_name)"
   ]
  },
  {
   "cell_type": "markdown",
   "id": "73e9a1fa-ce82-4a79-b802-94cf43a2353d",
   "metadata": {},
   "source": [
    "<div style=\"background-color:#4B6587; color:#F0E5CF; padding: 1px; border-radius: 10px;\">\n",
    "    <h2 style=\"font-size: 16px; margin-left: 10px;\"> Step 5. PDBQT to Mol2 and Mol2 to SDF</h2>\n",
    "</div>"
   ]
  },
  {
   "cell_type": "code",
   "execution_count": 9,
   "id": "185ba926-03be-4236-b1d3-83f202a361b2",
   "metadata": {},
   "outputs": [
    {
     "name": "stdout",
     "output_type": "stream",
     "text": [
      "PDBQT to SDF conversion for batch 1 is completed.\n",
      "\u001b[1m\u001b[34mPDBQT to SDF conversion completed and files saved in folder: \u001b[91mbrd4_hll_flexible/pipeline_files/5_sdf_out\u001b[0m\n",
      "None\n"
     ]
    }
   ],
   "source": [
    "script_path = os.path.join(\"z_docking_files\", \"3_pdbqt_to_sdf_flex.sh\")\n",
    "\n",
    "result = subprocess.run([\"/bin/bash\", script_path, flex_folder_name])\n",
    "print(result.stderr)"
   ]
  },
  {
   "cell_type": "markdown",
   "id": "d8092751-4f62-40cf-81e5-3f958a4eb46a",
   "metadata": {},
   "source": [
    "<div style=\"background-color:#4B6587; color:#F0E5CF; padding: 1px; border-radius: 10px;\">\n",
    "    <h2 style=\"font-size: 16px; margin-left: 10px;\"> Step 6. PoseBusters Filter </h2>\n",
    "</div>"
   ]
  },
  {
   "cell_type": "code",
   "execution_count": 10,
   "id": "dc5594cf-7dce-413b-9333-d370ac38c988",
   "metadata": {},
   "outputs": [
    {
     "name": "stdout",
     "output_type": "stream",
     "text": [
      "\u001b[1m\u001b[34mCheck PoseBusters Progress... \u001b[91mbrd4_hll_flexible/pipeline_files/2_pb_out.csv\u001b[0m\n",
      "\u001b[1m\u001b[34mPoseBusters Filtration Completed\u001b[0m\n",
      "None\n"
     ]
    }
   ],
   "source": [
    "script_path = os.path.join(\"z_docking_files\", \"4_posebusters_filter_flex.sh\")\n",
    "pdb = os.path.join(folder_name, pdb_file)\n",
    "\n",
    "result = subprocess.run([\"/bin/bash\", script_path, flex_folder_name, pdb])\n",
    "print(result.stdout)"
   ]
  },
  {
   "cell_type": "code",
   "execution_count": 12,
   "id": "31c6ccb5-791e-42f1-b71a-034aee3a3f1f",
   "metadata": {},
   "outputs": [
    {
     "data": {
      "text/html": [
       "<div>\n",
       "<style scoped>\n",
       "    .dataframe tbody tr th:only-of-type {\n",
       "        vertical-align: middle;\n",
       "    }\n",
       "\n",
       "    .dataframe tbody tr th {\n",
       "        vertical-align: top;\n",
       "    }\n",
       "\n",
       "    .dataframe thead th {\n",
       "        text-align: right;\n",
       "    }\n",
       "</style>\n",
       "<table border=\"1\" class=\"dataframe\">\n",
       "  <thead>\n",
       "    <tr style=\"text-align: right;\">\n",
       "      <th></th>\n",
       "      <th>Name</th>\n",
       "      <th>mol_pred_loaded</th>\n",
       "      <th>mol_cond_loaded</th>\n",
       "      <th>sanitization</th>\n",
       "      <th>all_atoms_connected</th>\n",
       "      <th>bond_lengths</th>\n",
       "      <th>bond_angles</th>\n",
       "      <th>internal_steric_clash</th>\n",
       "      <th>aromatic_ring_flatness</th>\n",
       "      <th>double_bond_flatness</th>\n",
       "      <th>...</th>\n",
       "      <th>protein-ligand_maximum_distance</th>\n",
       "      <th>minimum_distance_to_protein</th>\n",
       "      <th>minimum_distance_to_organic_cofactors</th>\n",
       "      <th>minimum_distance_to_inorganic_cofactors</th>\n",
       "      <th>minimum_distance_to_waters</th>\n",
       "      <th>volume_overlap_with_protein</th>\n",
       "      <th>volume_overlap_with_organic_cofactors</th>\n",
       "      <th>volume_overlap_with_inorganic_cofactors</th>\n",
       "      <th>volume_overlap_with_waters</th>\n",
       "      <th>passes</th>\n",
       "    </tr>\n",
       "  </thead>\n",
       "  <tbody>\n",
       "    <tr>\n",
       "      <th>0</th>\n",
       "      <td>hll_enamine250296</td>\n",
       "      <td>True</td>\n",
       "      <td>True</td>\n",
       "      <td>True</td>\n",
       "      <td>True</td>\n",
       "      <td>True</td>\n",
       "      <td>True</td>\n",
       "      <td>True</td>\n",
       "      <td>True</td>\n",
       "      <td>True</td>\n",
       "      <td>...</td>\n",
       "      <td>True</td>\n",
       "      <td>False</td>\n",
       "      <td>True</td>\n",
       "      <td>True</td>\n",
       "      <td>True</td>\n",
       "      <td>False</td>\n",
       "      <td>True</td>\n",
       "      <td>True</td>\n",
       "      <td>True</td>\n",
       "      <td>17</td>\n",
       "    </tr>\n",
       "    <tr>\n",
       "      <th>1</th>\n",
       "      <td>hll_enamine234757</td>\n",
       "      <td>True</td>\n",
       "      <td>True</td>\n",
       "      <td>True</td>\n",
       "      <td>True</td>\n",
       "      <td>True</td>\n",
       "      <td>True</td>\n",
       "      <td>True</td>\n",
       "      <td>True</td>\n",
       "      <td>True</td>\n",
       "      <td>...</td>\n",
       "      <td>True</td>\n",
       "      <td>False</td>\n",
       "      <td>True</td>\n",
       "      <td>True</td>\n",
       "      <td>True</td>\n",
       "      <td>False</td>\n",
       "      <td>True</td>\n",
       "      <td>True</td>\n",
       "      <td>True</td>\n",
       "      <td>17</td>\n",
       "    </tr>\n",
       "    <tr>\n",
       "      <th>2</th>\n",
       "      <td>brd_enamine5604</td>\n",
       "      <td>True</td>\n",
       "      <td>True</td>\n",
       "      <td>True</td>\n",
       "      <td>True</td>\n",
       "      <td>True</td>\n",
       "      <td>True</td>\n",
       "      <td>True</td>\n",
       "      <td>True</td>\n",
       "      <td>True</td>\n",
       "      <td>...</td>\n",
       "      <td>True</td>\n",
       "      <td>False</td>\n",
       "      <td>True</td>\n",
       "      <td>True</td>\n",
       "      <td>True</td>\n",
       "      <td>False</td>\n",
       "      <td>True</td>\n",
       "      <td>True</td>\n",
       "      <td>True</td>\n",
       "      <td>17</td>\n",
       "    </tr>\n",
       "    <tr>\n",
       "      <th>3</th>\n",
       "      <td>brd_enamine13050</td>\n",
       "      <td>True</td>\n",
       "      <td>True</td>\n",
       "      <td>True</td>\n",
       "      <td>True</td>\n",
       "      <td>True</td>\n",
       "      <td>True</td>\n",
       "      <td>True</td>\n",
       "      <td>True</td>\n",
       "      <td>True</td>\n",
       "      <td>...</td>\n",
       "      <td>True</td>\n",
       "      <td>False</td>\n",
       "      <td>True</td>\n",
       "      <td>True</td>\n",
       "      <td>True</td>\n",
       "      <td>False</td>\n",
       "      <td>True</td>\n",
       "      <td>True</td>\n",
       "      <td>True</td>\n",
       "      <td>17</td>\n",
       "    </tr>\n",
       "    <tr>\n",
       "      <th>4</th>\n",
       "      <td>brd_enamine9035</td>\n",
       "      <td>True</td>\n",
       "      <td>True</td>\n",
       "      <td>True</td>\n",
       "      <td>True</td>\n",
       "      <td>True</td>\n",
       "      <td>True</td>\n",
       "      <td>True</td>\n",
       "      <td>True</td>\n",
       "      <td>True</td>\n",
       "      <td>...</td>\n",
       "      <td>True</td>\n",
       "      <td>False</td>\n",
       "      <td>True</td>\n",
       "      <td>True</td>\n",
       "      <td>True</td>\n",
       "      <td>False</td>\n",
       "      <td>True</td>\n",
       "      <td>True</td>\n",
       "      <td>True</td>\n",
       "      <td>17</td>\n",
       "    </tr>\n",
       "  </tbody>\n",
       "</table>\n",
       "<p>5 rows × 21 columns</p>\n",
       "</div>"
      ],
      "text/plain": [
       "                Name  mol_pred_loaded  mol_cond_loaded  sanitization  \\\n",
       "0  hll_enamine250296             True             True          True   \n",
       "1  hll_enamine234757             True             True          True   \n",
       "2    brd_enamine5604             True             True          True   \n",
       "3   brd_enamine13050             True             True          True   \n",
       "4    brd_enamine9035             True             True          True   \n",
       "\n",
       "   all_atoms_connected  bond_lengths  bond_angles  internal_steric_clash  \\\n",
       "0                 True          True         True                   True   \n",
       "1                 True          True         True                   True   \n",
       "2                 True          True         True                   True   \n",
       "3                 True          True         True                   True   \n",
       "4                 True          True         True                   True   \n",
       "\n",
       "   aromatic_ring_flatness  double_bond_flatness  ...  \\\n",
       "0                    True                  True  ...   \n",
       "1                    True                  True  ...   \n",
       "2                    True                  True  ...   \n",
       "3                    True                  True  ...   \n",
       "4                    True                  True  ...   \n",
       "\n",
       "   protein-ligand_maximum_distance  minimum_distance_to_protein  \\\n",
       "0                             True                        False   \n",
       "1                             True                        False   \n",
       "2                             True                        False   \n",
       "3                             True                        False   \n",
       "4                             True                        False   \n",
       "\n",
       "   minimum_distance_to_organic_cofactors  \\\n",
       "0                                   True   \n",
       "1                                   True   \n",
       "2                                   True   \n",
       "3                                   True   \n",
       "4                                   True   \n",
       "\n",
       "   minimum_distance_to_inorganic_cofactors  minimum_distance_to_waters  \\\n",
       "0                                     True                        True   \n",
       "1                                     True                        True   \n",
       "2                                     True                        True   \n",
       "3                                     True                        True   \n",
       "4                                     True                        True   \n",
       "\n",
       "   volume_overlap_with_protein  volume_overlap_with_organic_cofactors  \\\n",
       "0                        False                                   True   \n",
       "1                        False                                   True   \n",
       "2                        False                                   True   \n",
       "3                        False                                   True   \n",
       "4                        False                                   True   \n",
       "\n",
       "   volume_overlap_with_inorganic_cofactors  volume_overlap_with_waters  passes  \n",
       "0                                     True                        True      17  \n",
       "1                                     True                        True      17  \n",
       "2                                     True                        True      17  \n",
       "3                                     True                        True      17  \n",
       "4                                     True                        True      17  \n",
       "\n",
       "[5 rows x 21 columns]"
      ]
     },
     "metadata": {},
     "output_type": "display_data"
    },
    {
     "name": "stdout",
     "output_type": "stream",
     "text": [
      "\u001b[1m\u001b[34mCompounds filtered out by PoseBusters: \u001b[91m0\u001b[0m\n"
     ]
    }
   ],
   "source": [
    "process_pb_csv_flex(flex_folder_name)\n",
    "final_output_flex(flex_folder_name, input_smiles, passes=17)"
   ]
  }
 ],
 "metadata": {
  "kernelspec": {
   "display_name": "Python 3 (ipykernel)",
   "language": "python",
   "name": "python3"
  },
  "language_info": {
   "codemirror_mode": {
    "name": "ipython",
    "version": 3
   },
   "file_extension": ".py",
   "mimetype": "text/x-python",
   "name": "python",
   "nbconvert_exporter": "python",
   "pygments_lexer": "ipython3",
   "version": "3.8.10"
  }
 },
 "nbformat": 4,
 "nbformat_minor": 5
}
