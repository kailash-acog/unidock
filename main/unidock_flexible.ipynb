{
 "cells": [
  {
   "cell_type": "code",
   "execution_count": 1,
   "id": "d58f98cc-b03e-4570-b221-84494cc3abf9",
   "metadata": {},
   "outputs": [],
   "source": [
    "import os\n",
    "import re\n",
    "import csv \n",
    "import sys\n",
    "import time\n",
    "import math\n",
    "import torch\n",
    "import random\n",
    "import shutil\n",
    "import psutil\n",
    "import string\n",
    "import logging\n",
    "import subprocess\n",
    "import pandas as pd\n",
    "import concurrent.futures\n",
    "import ipywidgets as widgets\n",
    "import multiprocessing as mp\n",
    "\n",
    "from glob import glob\n",
    "from typing import Optional, List\n",
    "from IPython.display import display\n",
    "from rdkit import Chem, DataStructs\n",
    "from z_docking_files.utils import *\n",
    "from openbabel import openbabel, pybel\n",
    "from multiprocessing import Pool, cpu_count\n",
    "from concurrent.futures import ThreadPoolExecutor\n",
    "from rdkit.Chem import AllChem, Descriptors, Draw "
   ]
  },
  {
   "cell_type": "code",
   "execution_count": 2,
   "id": "b17cd385-740f-4627-b98c-93332328a224",
   "metadata": {},
   "outputs": [
    {
     "name": "stdout",
     "output_type": "stream",
     "text": [
      "\u001b[1m\u001b[34mGPU availability in own5: \u001b[91m9.00%\u001b[0m\n",
      "\u001b[1m\u001b[34mCPU availability in own5: \u001b[91m31.50%\u001b[0m\n"
     ]
    }
   ],
   "source": [
    "device = check_availability()"
   ]
  },
  {
   "cell_type": "markdown",
   "id": "cdfb115a-5446-468a-9f97-d80cc32781ac",
   "metadata": {},
   "source": [
    "<div style=\"background-color:#4B6587; color:#F0E5CF; padding: 1px; border-radius: 10px;\">\n",
    "    <h2 style=\"font-size: 16px; margin-left: 10px;\"> Step 1. Load Data </h2>\n",
    "</div>"
   ]
  },
  {
   "cell_type": "code",
   "execution_count": 3,
   "id": "cd4fa608-334f-4bac-9fab-b767d801fc40",
   "metadata": {},
   "outputs": [],
   "source": [
    "folder_name = \"brd4_hll\"\n",
    "pdb_file = \"brd4.pdb\"  \n",
    "pdbqt_rigid = \"brd4_rigid_10_res.pdbqt\"\n",
    "pdbqt_flex = \"brd4_flex_10_res.pdbqt\"\n",
    "input_csv = \"output.csv\"\n",
    "threshold = -10.97"
   ]
  },
  {
   "cell_type": "code",
   "execution_count": 4,
   "id": "eaa06713-1eee-4dbd-b1d0-3067d94ca91d",
   "metadata": {},
   "outputs": [],
   "source": [
    "flex_folder_name = folder_name + \"_flexible\"\n",
    "os.makedirs(os.path.join(flex_folder_name), exist_ok=True)"
   ]
  },
  {
   "cell_type": "code",
   "execution_count": 5,
   "id": "dc841045-2ebc-4301-be2f-31e75980dd51",
   "metadata": {},
   "outputs": [
    {
     "data": {
      "text/html": [
       "<div>\n",
       "<style scoped>\n",
       "    .dataframe tbody tr th:only-of-type {\n",
       "        vertical-align: middle;\n",
       "    }\n",
       "\n",
       "    .dataframe tbody tr th {\n",
       "        vertical-align: top;\n",
       "    }\n",
       "\n",
       "    .dataframe thead th {\n",
       "        text-align: right;\n",
       "    }\n",
       "</style>\n",
       "<table border=\"1\" class=\"dataframe\">\n",
       "  <thead>\n",
       "    <tr style=\"text-align: right;\">\n",
       "      <th></th>\n",
       "      <th>Name</th>\n",
       "      <th>SMILES</th>\n",
       "      <th>Affinity</th>\n",
       "    </tr>\n",
       "  </thead>\n",
       "  <tbody>\n",
       "    <tr>\n",
       "      <th>0</th>\n",
       "      <td>brd4_chemdiv4079</td>\n",
       "      <td>c1(c(c2c(o1)c(c1c(c(cc(=O)o1)c1ccccc1)c2)C)c1c...</td>\n",
       "      <td>-10.977</td>\n",
       "    </tr>\n",
       "  </tbody>\n",
       "</table>\n",
       "</div>"
      ],
      "text/plain": [
       "               Name                                             SMILES  \\\n",
       "0  brd4_chemdiv4079  c1(c(c2c(o1)c(c1c(c(cc(=O)o1)c1ccccc1)c2)C)c1c...   \n",
       "\n",
       "   Affinity  \n",
       "0   -10.977  "
      ]
     },
     "metadata": {},
     "output_type": "display_data"
    },
    {
     "name": "stdout",
     "output_type": "stream",
     "text": [
      "(1, 3)\n"
     ]
    }
   ],
   "source": [
    "input_smiles = os.path.join(folder_name, input_csv)\n",
    "df = pd.read_csv(input_smiles)\n",
    "df = df[df['Affinity'] < threshold]\n",
    "df.to_csv(os.path.join(flex_folder_name, 'output.csv'), index=False)\n",
    "display(df.head())\n",
    "print(df.shape)"
   ]
  },
  {
   "cell_type": "markdown",
   "id": "0e186d9a-91ad-4ad8-9438-6e069c7ed00b",
   "metadata": {},
   "source": [
    "<div style=\"background-color:#4B6587; color:#F0E5CF; padding: 1px; border-radius: 10px;\">\n",
    "    <h2 style=\"font-size: 16px; margin-left: 10px;\"> Step 2. Copy PDBQT files and Create ligands path </h2>\n",
    "</div>"
   ]
  },
  {
   "cell_type": "code",
   "execution_count": 6,
   "id": "6b33e29d-e419-4058-9b79-250a79042d01",
   "metadata": {},
   "outputs": [],
   "source": [
    "copy_pdbqt_files_flex(df, folder_name, flex_folder_name)\n",
    "create_ligands_path_flex(flex_folder_name)"
   ]
  },
  {
   "cell_type": "markdown",
   "id": "2958738c-3f09-4f3b-9049-df22440ea6d8",
   "metadata": {},
   "source": [
    "<div style=\"background-color:#8E44AD; color:#ECF0F1; padding: 1px; border-radius: 10px;\">\n",
    "    <h2 style=\"font-size: 16px; margin-left: 10px;\"> Step 3. Uni-Dock Flexible Docking </h2>\n",
    "</div>"
   ]
  },
  {
   "cell_type": "code",
   "execution_count": 6,
   "id": "46b4e099-4a7f-4c2b-9c6b-da2cd79cc6cc",
   "metadata": {},
   "outputs": [
    {
     "name": "stdout",
     "output_type": "stream",
     "text": [
      "\u001b[1m\u001b[34mCheck Docking Progress... \u001b[91m$brd4_hll_flexible/pipeline_files/unidock_output.txt\u001b[0m\n",
      "\u001b[1m\u001b[34mDocking Process completed\u001b[0m\n"
     ]
    }
   ],
   "source": [
    "protein_rigid = os.path.join(folder_name, pdbqt_rigid)\n",
    "protein_flex = os.path.join(folder_name, pdbqt_flex)\n",
    "\n",
    "ligands_path = os.path.join(flex_folder_name, \"pipeline_files/unidock_pdbqt_path.txt\")\n",
    "\n",
    "output_result = os.path.join(flex_folder_name, \"pipeline_files/2_pdbqt_out_flex\")\n",
    "os.makedirs(output_result, exist_ok=True)\n",
    "\n",
    "output_logs = os.path.join(flex_folder_name, \"pipeline_files/unidock_output.txt\")\n",
    "os.system(\"touch \" + output_logs)\n",
    "print(f\"\\033[1m\\033[34mCheck Docking Progress... \\033[91m${output_logs}\\033[0m\")\n",
    "unidock_command = (\n",
    "    f\"unidock \"\n",
    "    f\"--flex {protein_flex} \"\n",
    "    f\"--receptor {protein_rigid} \"\n",
    "    f\"--gpu_batch $(cat {ligands_path}) \"\n",
    "    f\"--search_mode detail \"\n",
    "    f\"--scoring vina \"\n",
    "    f\"--center_x 86.79 \"\n",
    "    f\"--center_y 43.89 \"\n",
    "    f\"--center_z 65.43 \"\n",
    "    f\"--size_x 20.00 \"\n",
    "    f\"--size_y 20.00 \"\n",
    "    f\"--size_z 20.00 \"\n",
    "    f\"--num_modes 10 \"\n",
    "    f\"--dir {output_result} \"\n",
    "    f\">> {output_logs} 2>&1\"\n",
    ")\n",
    "\n",
    "os.system(unidock_command)\n",
    "print(f\"\\033[1m\\033[34mDocking Process completed\\033[0m\")"
   ]
  },
  {
   "cell_type": "code",
   "execution_count": 8,
   "id": "f7780bd2-3ac6-4585-9344-236848f9f56e",
   "metadata": {},
   "outputs": [
    {
     "name": "stdout",
     "output_type": "stream",
     "text": [
      "Uni-Dock v0.1.0\n",
      "\n",
      "Input:\n",
      "  --receptor arg                        rigid part of the receptor (PDBQT or \n",
      "                                        PDB)\n",
      "  --flex arg                            flexible side chains, if any (PDBQT or \n",
      "                                        PDB)\n",
      "  --ligand arg                          ligand (PDBQT)\n",
      "  --ligand_index arg                    file containing paths to ligands (PDBQT\n",
      "                                        or SDF\n",
      "  --paired_batch_size arg               If > 0, uses batching for \n",
      "                                        one-ligand-one-protein docking, with \n",
      "                                        json config in ligand_index following \n",
      "                                        paired_batching.schema.json\n",
      "  --batch arg                           batch ligand (PDBQT)\n",
      "  --gpu_batch arg                       gpu batch ligand (PDBQT or SDF)\n",
      "  --scoring arg (=vina)                 scoring function (ad4, vina or vinardo)\n",
      "\n",
      "Search space (required):\n",
      "  --maps arg                            affinity maps for the autodock4.2 (ad4)\n",
      "                                        or vina scoring function\n",
      "  --center_x arg                        X coordinate of the center (Angstrom)\n",
      "  --center_y arg                        Y coordinate of the center (Angstrom)\n",
      "  --center_z arg                        Z coordinate of the center (Angstrom)\n",
      "  --size_x arg                          size in the X dimension (Angstrom)\n",
      "  --size_y arg                          size in the Y dimension (Angstrom)\n",
      "  --size_z arg                          size in the Z dimension (Angstrom)\n",
      "  --autobox                             set maps dimensions based on input \n",
      "                                        ligand(s) (for --score_only and \n",
      "                                        --local_only)\n",
      "\n",
      "Output (optional):\n",
      "  --out arg                             output models (PDBQT), the default is \n",
      "                                        chosen based on the ligand file name\n",
      "  --dir arg                             output directory for batch mode\n",
      "  --write_maps arg                      output filename (directory + prefix \n",
      "                                        name) for maps. Option \n",
      "                                        --force_even_voxels may be needed to \n",
      "                                        comply with .map format\n",
      "\n",
      "Advanced options (see the manual):\n",
      "  --score_only                          score only - search space can be \n",
      "                                        omitted\n",
      "  --score_file arg (=scores.txt)        score only output file in batch mode, \n",
      "                                        with 'score_only' option\n",
      "  --local_only                          do local search only\n",
      "  --no_refine                           when --receptor is provided, do not use\n",
      "                                        explicit receptor atoms (instead of \n",
      "                                        precalculated grids) for: (1) local \n",
      "                                        optimization and scoring after docking,\n",
      "                                        (2) --local_only jobs, and (3) \n",
      "                                        --score_only jobs\n",
      "  --force_even_voxels                   calculated grid maps will have an even \n",
      "                                        number of voxels (intervals) in each \n",
      "                                        dimension (odd number of grid points)\n",
      "  --randomize_only                      randomize input, attempting to avoid \n",
      "                                        clashes\n",
      "  --weight_gauss1 arg (=-0.035579)      gauss_1 weight\n",
      "  --weight_gauss2 arg (=-0.005156)      gauss_2 weight\n",
      "  --weight_repulsion arg (=0.84024500000000002)\n",
      "                                        repulsion weight\n",
      "  --weight_hydrophobic arg (=-0.035069000000000003)\n",
      "                                        hydrophobic weight\n",
      "  --weight_hydrogen arg (=-0.58743900000000004)\n",
      "                                        Hydrogen bond weight\n",
      "  --weight_rot arg (=0.058459999999999998)\n",
      "                                        N_rot weight\n",
      "  --weight_vinardo_gauss1 arg (=-0.044999999999999998)\n",
      "                                        Vinardo gauss_1 weight\n",
      "  --weight_vinardo_repulsion arg (=0.80000000000000004)\n",
      "                                        Vinardo repulsion weight\n",
      "  --weight_vinardo_hydrophobic arg (=-0.035000000000000003)\n",
      "                                        Vinardo hydrophobic weight\n",
      "  --weight_vinardo_hydrogen arg (=-0.59999999999999998)\n",
      "                                        Vinardo Hydrogen bond weight\n",
      "  --weight_vinardo_rot arg (=0.058459999999999998)\n",
      "                                        Vinardo N_rot weight\n",
      "  --weight_ad4_vdw arg (=0.16619999999999999)\n",
      "                                        ad4_vdw weight\n",
      "  --weight_ad4_hb arg (=0.12089999999999999)\n",
      "                                        ad4_hb weight\n",
      "  --weight_ad4_elec arg (=0.1406)       ad4_elec weight\n",
      "  --weight_ad4_dsolv arg (=0.13220000000000001)\n",
      "                                        ad4_dsolv weight\n",
      "  --weight_ad4_rot arg (=0.29830000000000001)\n",
      "                                        ad4_rot weight\n",
      "  --weight_glue arg (=50)               macrocycle glue weight\n",
      "  --bias arg                            bias configuration file name, content \n",
      "                                        similar to BPF in AutoDock-bias\n",
      "  --multi_bias                          add ligand bias {ligand_name}.bpf for \n",
      "                                        every input ligand {ligand_name}.pdbqt \n",
      "                                        in batch, content similar to BPF in \n",
      "                                        AutoDock-bias\n",
      "  --keep_nonpolar_H                     keep non polar H in sdf\n",
      "\n",
      "Misc (optional):\n",
      "  --cpu arg (=0)                        the number of CPUs to use (the default \n",
      "                                        is to try to detect the number of CPUs \n",
      "                                        or, failing that, use 1)\n",
      "  --seed arg (=0)                       explicit random seed\n",
      "  --exhaustiveness arg (=8)             exhaustiveness of the global search \n",
      "                                        (roughly proportional to time): 1+\n",
      "  --max_evals arg (=0)                  number of evaluations in each MC run \n",
      "                                        (if zero, which is the default, the \n",
      "                                        number of MC steps is based on \n",
      "                                        heuristics)\n",
      "  --num_modes arg (=9)                  maximum number of binding modes to \n",
      "                                        generate\n",
      "  --min_rmsd arg (=1)                   minimum RMSD between output poses\n",
      "  --energy_range arg (=3)               maximum energy difference between the \n",
      "                                        best binding mode and the worst one \n",
      "                                        displayed (kcal/mol)\n",
      "  --spacing arg (=0.375)                grid spacing (Angstrom)\n",
      "  --verbosity arg (=1)                  verbosity (0=no output, 1=normal, \n",
      "                                        2=verbose)\n",
      "  --max_step arg (=0)                   maximum number of steps in each MC run \n",
      "                                        (if zero, which is the default, the \n",
      "                                        number of MC steps is based on \n",
      "                                        heuristics)\n",
      "  --refine_step arg (=3)                number of steps in refinement, \n",
      "                                        default=5\n",
      "  --max_gpu_memory arg (=0)             maximum gpu memory to use (default=0, \n",
      "                                        use all available GPU memory to optain \n",
      "                                        maximum batch size)\n",
      "  --search_mode arg                     search mode of vina (fast, balance, \n",
      "                                        detail), using recommended settings of \n",
      "                                        exhaustiveness and search steps; the \n",
      "                                        higher the computational complexity, \n",
      "                                        the higher the accuracy, but the larger\n",
      "                                        the computational cost\n",
      "\n",
      "Configuration file (optional):\n",
      "  --config arg                          the above options can be put here\n",
      "\n",
      "Information (optional):\n",
      "  --help                                display usage summary\n",
      "  --help_advanced                       display usage summary with advanced \n",
      "                                        options\n",
      "  --version                             display program version\n",
      "\n"
     ]
    }
   ],
   "source": [
    "!unidock --help_advanced"
   ]
  },
  {
   "cell_type": "markdown",
   "id": "7a517313-3ee6-489a-b6cb-1a89eaf57be3",
   "metadata": {},
   "source": [
    "<div style=\"background-color:#4B6587; color:#F0E5CF; padding: 1px; border-radius: 10px;\">\n",
    "    <h2 style=\"font-size: 16px; margin-left: 10px;\"> Step 4. Extract Affinity values and Model1 Content </h2>\n",
    "</div>"
   ]
  },
  {
   "cell_type": "code",
   "execution_count": 8,
   "id": "40ebd533-a7db-45ee-ad08-02cebc4e87a5",
   "metadata": {},
   "outputs": [
    {
     "name": "stdout",
     "output_type": "stream",
     "text": [
      "\u001b[1m\u001b[34mAffnity values extracted and saved in folder: \u001b[91mbrd4_hll_flexible/pipeline_files/1_extract_affinity_from_pdbqt.csv\u001b[0m\n",
      "\u001b[1m\u001b[34mExtracted Model_1 content and saved in folder: \u001b[91mbrd4_hll_flexible/pipeline_files/3_pdbqt_out_flex_m1\u001b[0m\n"
     ]
    }
   ],
   "source": [
    "affinity_from_pdbqt_files_flex(flex_folder_name)\n",
    "extract_model1_flex(flex_folder_name)"
   ]
  },
  {
   "cell_type": "markdown",
   "id": "73e9a1fa-ce82-4a79-b802-94cf43a2353d",
   "metadata": {},
   "source": [
    "<div style=\"background-color:#4B6587; color:#F0E5CF; padding: 1px; border-radius: 10px;\">\n",
    "    <h2 style=\"font-size: 16px; margin-left: 10px;\"> Step 5. PDBQT to Mol2 and Mol2 to SDF</h2>\n",
    "</div>"
   ]
  },
  {
   "cell_type": "code",
   "execution_count": 9,
   "id": "185ba926-03be-4236-b1d3-83f202a361b2",
   "metadata": {},
   "outputs": [
    {
     "name": "stdout",
     "output_type": "stream",
     "text": [
      "\u001b[1m\u001b[34mPDBQT to SDF conversion completed and files saved in folder: \u001b[91mbrd4_hll_flexible/pipeline_files/5_sdf_out\u001b[0m\n",
      "None\n"
     ]
    }
   ],
   "source": [
    "script_path = os.path.join(\"z_docking_files\", \"3_pdbqt_to_sdf_flex.sh\")\n",
    "\n",
    "result = subprocess.run([\"/bin/bash\", script_path, flex_folder_name])\n",
    "print(result.stderr)"
   ]
  },
  {
   "cell_type": "markdown",
   "id": "d8092751-4f62-40cf-81e5-3f958a4eb46a",
   "metadata": {},
   "source": [
    "<div style=\"background-color:#4B6587; color:#F0E5CF; padding: 1px; border-radius: 10px;\">\n",
    "    <h2 style=\"font-size: 16px; margin-left: 10px;\"> Step 6. PoseBusters Filter </h2>\n",
    "</div>"
   ]
  },
  {
   "cell_type": "code",
   "execution_count": 10,
   "id": "dc5594cf-7dce-413b-9333-d370ac38c988",
   "metadata": {},
   "outputs": [
    {
     "name": "stdout",
     "output_type": "stream",
     "text": [
      "\u001b[1m\u001b[34mCheck PoseBusters Progress... \u001b[91mbrd4_hll_flexible/pipeline_files/2_pb_out.csv\u001b[0m\n",
      "\u001b[1m\u001b[34mPoseBusters Filtration Completed\u001b[0m\n",
      "None\n"
     ]
    }
   ],
   "source": [
    "script_path = os.path.join(\"z_docking_files\", \"4_posebusters_filter_flex.sh\")\n",
    "pdb = os.path.join(folder_name, pdb_file)\n",
    "\n",
    "result = subprocess.run([\"/bin/bash\", script_path, flex_folder_name, pdb])\n",
    "print(result.stdout)"
   ]
  },
  {
   "cell_type": "code",
   "execution_count": 11,
   "id": "31c6ccb5-791e-42f1-b71a-034aee3a3f1f",
   "metadata": {},
   "outputs": [
    {
     "ename": "EmptyDataError",
     "evalue": "No columns to parse from file",
     "output_type": "error",
     "traceback": [
      "\u001b[0;31m---------------------------------------------------------------------------\u001b[0m",
      "\u001b[0;31mEmptyDataError\u001b[0m                            Traceback (most recent call last)",
      "Cell \u001b[0;32mIn[11], line 1\u001b[0m\n\u001b[0;32m----> 1\u001b[0m \u001b[43mprocess_pb_csv_flex\u001b[49m\u001b[43m(\u001b[49m\u001b[43mflex_folder_name\u001b[49m\u001b[43m)\u001b[49m\n\u001b[1;32m      2\u001b[0m final_output_flex(flex_folder_name, input_smiles, passes\u001b[38;5;241m=\u001b[39m\u001b[38;5;241m19\u001b[39m)\n",
      "File \u001b[0;32m/home/z_docking_files/utils.py:503\u001b[0m, in \u001b[0;36mprocess_pb_csv_flex\u001b[0;34m(folder_name)\u001b[0m\n\u001b[1;32m    501\u001b[0m \u001b[38;5;28;01mdef\u001b[39;00m \u001b[38;5;21mprocess_pb_csv_flex\u001b[39m(folder_name):\n\u001b[1;32m    502\u001b[0m     pb_result \u001b[38;5;241m=\u001b[39m os\u001b[38;5;241m.\u001b[39mpath\u001b[38;5;241m.\u001b[39mjoin(folder_name, \u001b[38;5;124m'\u001b[39m\u001b[38;5;124mpipeline_files\u001b[39m\u001b[38;5;124m'\u001b[39m, \u001b[38;5;124m'\u001b[39m\u001b[38;5;124m2_pb_out.csv\u001b[39m\u001b[38;5;124m'\u001b[39m)\n\u001b[0;32m--> 503\u001b[0m     pb \u001b[38;5;241m=\u001b[39m \u001b[43mpd\u001b[49m\u001b[38;5;241;43m.\u001b[39;49m\u001b[43mread_csv\u001b[49m\u001b[43m(\u001b[49m\u001b[43mpb_result\u001b[49m\u001b[43m)\u001b[49m\n\u001b[1;32m    504\u001b[0m     pb \u001b[38;5;241m=\u001b[39m pb\u001b[38;5;241m.\u001b[39mdrop(\u001b[38;5;124m'\u001b[39m\u001b[38;5;124mfile\u001b[39m\u001b[38;5;124m'\u001b[39m, axis\u001b[38;5;241m=\u001b[39m\u001b[38;5;241m1\u001b[39m)\n\u001b[1;32m    505\u001b[0m     pb \u001b[38;5;241m=\u001b[39m pb\u001b[38;5;241m.\u001b[39mdrop(pb\u001b[38;5;241m.\u001b[39mindex[\u001b[38;5;241m1\u001b[39m::\u001b[38;5;241m2\u001b[39m])\n",
      "File \u001b[0;32m/miniconda/envs/unidock/lib/python3.8/site-packages/pandas/io/parsers/readers.py:912\u001b[0m, in \u001b[0;36mread_csv\u001b[0;34m(filepath_or_buffer, sep, delimiter, header, names, index_col, usecols, dtype, engine, converters, true_values, false_values, skipinitialspace, skiprows, skipfooter, nrows, na_values, keep_default_na, na_filter, verbose, skip_blank_lines, parse_dates, infer_datetime_format, keep_date_col, date_parser, date_format, dayfirst, cache_dates, iterator, chunksize, compression, thousands, decimal, lineterminator, quotechar, quoting, doublequote, escapechar, comment, encoding, encoding_errors, dialect, on_bad_lines, delim_whitespace, low_memory, memory_map, float_precision, storage_options, dtype_backend)\u001b[0m\n\u001b[1;32m    899\u001b[0m kwds_defaults \u001b[38;5;241m=\u001b[39m _refine_defaults_read(\n\u001b[1;32m    900\u001b[0m     dialect,\n\u001b[1;32m    901\u001b[0m     delimiter,\n\u001b[0;32m   (...)\u001b[0m\n\u001b[1;32m    908\u001b[0m     dtype_backend\u001b[38;5;241m=\u001b[39mdtype_backend,\n\u001b[1;32m    909\u001b[0m )\n\u001b[1;32m    910\u001b[0m kwds\u001b[38;5;241m.\u001b[39mupdate(kwds_defaults)\n\u001b[0;32m--> 912\u001b[0m \u001b[38;5;28;01mreturn\u001b[39;00m \u001b[43m_read\u001b[49m\u001b[43m(\u001b[49m\u001b[43mfilepath_or_buffer\u001b[49m\u001b[43m,\u001b[49m\u001b[43m \u001b[49m\u001b[43mkwds\u001b[49m\u001b[43m)\u001b[49m\n",
      "File \u001b[0;32m/miniconda/envs/unidock/lib/python3.8/site-packages/pandas/io/parsers/readers.py:577\u001b[0m, in \u001b[0;36m_read\u001b[0;34m(filepath_or_buffer, kwds)\u001b[0m\n\u001b[1;32m    574\u001b[0m _validate_names(kwds\u001b[38;5;241m.\u001b[39mget(\u001b[38;5;124m\"\u001b[39m\u001b[38;5;124mnames\u001b[39m\u001b[38;5;124m\"\u001b[39m, \u001b[38;5;28;01mNone\u001b[39;00m))\n\u001b[1;32m    576\u001b[0m \u001b[38;5;66;03m# Create the parser.\u001b[39;00m\n\u001b[0;32m--> 577\u001b[0m parser \u001b[38;5;241m=\u001b[39m \u001b[43mTextFileReader\u001b[49m\u001b[43m(\u001b[49m\u001b[43mfilepath_or_buffer\u001b[49m\u001b[43m,\u001b[49m\u001b[43m \u001b[49m\u001b[38;5;241;43m*\u001b[39;49m\u001b[38;5;241;43m*\u001b[39;49m\u001b[43mkwds\u001b[49m\u001b[43m)\u001b[49m\n\u001b[1;32m    579\u001b[0m \u001b[38;5;28;01mif\u001b[39;00m chunksize \u001b[38;5;129;01mor\u001b[39;00m iterator:\n\u001b[1;32m    580\u001b[0m     \u001b[38;5;28;01mreturn\u001b[39;00m parser\n",
      "File \u001b[0;32m/miniconda/envs/unidock/lib/python3.8/site-packages/pandas/io/parsers/readers.py:1407\u001b[0m, in \u001b[0;36mTextFileReader.__init__\u001b[0;34m(self, f, engine, **kwds)\u001b[0m\n\u001b[1;32m   1404\u001b[0m     \u001b[38;5;28mself\u001b[39m\u001b[38;5;241m.\u001b[39moptions[\u001b[38;5;124m\"\u001b[39m\u001b[38;5;124mhas_index_names\u001b[39m\u001b[38;5;124m\"\u001b[39m] \u001b[38;5;241m=\u001b[39m kwds[\u001b[38;5;124m\"\u001b[39m\u001b[38;5;124mhas_index_names\u001b[39m\u001b[38;5;124m\"\u001b[39m]\n\u001b[1;32m   1406\u001b[0m \u001b[38;5;28mself\u001b[39m\u001b[38;5;241m.\u001b[39mhandles: IOHandles \u001b[38;5;241m|\u001b[39m \u001b[38;5;28;01mNone\u001b[39;00m \u001b[38;5;241m=\u001b[39m \u001b[38;5;28;01mNone\u001b[39;00m\n\u001b[0;32m-> 1407\u001b[0m \u001b[38;5;28mself\u001b[39m\u001b[38;5;241m.\u001b[39m_engine \u001b[38;5;241m=\u001b[39m \u001b[38;5;28;43mself\u001b[39;49m\u001b[38;5;241;43m.\u001b[39;49m\u001b[43m_make_engine\u001b[49m\u001b[43m(\u001b[49m\u001b[43mf\u001b[49m\u001b[43m,\u001b[49m\u001b[43m \u001b[49m\u001b[38;5;28;43mself\u001b[39;49m\u001b[38;5;241;43m.\u001b[39;49m\u001b[43mengine\u001b[49m\u001b[43m)\u001b[49m\n",
      "File \u001b[0;32m/miniconda/envs/unidock/lib/python3.8/site-packages/pandas/io/parsers/readers.py:1679\u001b[0m, in \u001b[0;36mTextFileReader._make_engine\u001b[0;34m(self, f, engine)\u001b[0m\n\u001b[1;32m   1676\u001b[0m     \u001b[38;5;28;01mraise\u001b[39;00m \u001b[38;5;167;01mValueError\u001b[39;00m(msg)\n\u001b[1;32m   1678\u001b[0m \u001b[38;5;28;01mtry\u001b[39;00m:\n\u001b[0;32m-> 1679\u001b[0m     \u001b[38;5;28;01mreturn\u001b[39;00m \u001b[43mmapping\u001b[49m\u001b[43m[\u001b[49m\u001b[43mengine\u001b[49m\u001b[43m]\u001b[49m\u001b[43m(\u001b[49m\u001b[43mf\u001b[49m\u001b[43m,\u001b[49m\u001b[43m \u001b[49m\u001b[38;5;241;43m*\u001b[39;49m\u001b[38;5;241;43m*\u001b[39;49m\u001b[38;5;28;43mself\u001b[39;49m\u001b[38;5;241;43m.\u001b[39;49m\u001b[43moptions\u001b[49m\u001b[43m)\u001b[49m\n\u001b[1;32m   1680\u001b[0m \u001b[38;5;28;01mexcept\u001b[39;00m \u001b[38;5;167;01mException\u001b[39;00m:\n\u001b[1;32m   1681\u001b[0m     \u001b[38;5;28;01mif\u001b[39;00m \u001b[38;5;28mself\u001b[39m\u001b[38;5;241m.\u001b[39mhandles \u001b[38;5;129;01mis\u001b[39;00m \u001b[38;5;129;01mnot\u001b[39;00m \u001b[38;5;28;01mNone\u001b[39;00m:\n",
      "File \u001b[0;32m/miniconda/envs/unidock/lib/python3.8/site-packages/pandas/io/parsers/c_parser_wrapper.py:93\u001b[0m, in \u001b[0;36mCParserWrapper.__init__\u001b[0;34m(self, src, **kwds)\u001b[0m\n\u001b[1;32m     90\u001b[0m \u001b[38;5;28;01mif\u001b[39;00m kwds[\u001b[38;5;124m\"\u001b[39m\u001b[38;5;124mdtype_backend\u001b[39m\u001b[38;5;124m\"\u001b[39m] \u001b[38;5;241m==\u001b[39m \u001b[38;5;124m\"\u001b[39m\u001b[38;5;124mpyarrow\u001b[39m\u001b[38;5;124m\"\u001b[39m:\n\u001b[1;32m     91\u001b[0m     \u001b[38;5;66;03m# Fail here loudly instead of in cython after reading\u001b[39;00m\n\u001b[1;32m     92\u001b[0m     import_optional_dependency(\u001b[38;5;124m\"\u001b[39m\u001b[38;5;124mpyarrow\u001b[39m\u001b[38;5;124m\"\u001b[39m)\n\u001b[0;32m---> 93\u001b[0m \u001b[38;5;28mself\u001b[39m\u001b[38;5;241m.\u001b[39m_reader \u001b[38;5;241m=\u001b[39m \u001b[43mparsers\u001b[49m\u001b[38;5;241;43m.\u001b[39;49m\u001b[43mTextReader\u001b[49m\u001b[43m(\u001b[49m\u001b[43msrc\u001b[49m\u001b[43m,\u001b[49m\u001b[43m \u001b[49m\u001b[38;5;241;43m*\u001b[39;49m\u001b[38;5;241;43m*\u001b[39;49m\u001b[43mkwds\u001b[49m\u001b[43m)\u001b[49m\n\u001b[1;32m     95\u001b[0m \u001b[38;5;28mself\u001b[39m\u001b[38;5;241m.\u001b[39munnamed_cols \u001b[38;5;241m=\u001b[39m \u001b[38;5;28mself\u001b[39m\u001b[38;5;241m.\u001b[39m_reader\u001b[38;5;241m.\u001b[39munnamed_cols\n\u001b[1;32m     97\u001b[0m \u001b[38;5;66;03m# error: Cannot determine type of 'names'\u001b[39;00m\n",
      "File \u001b[0;32m/miniconda/envs/unidock/lib/python3.8/site-packages/pandas/_libs/parsers.pyx:557\u001b[0m, in \u001b[0;36mpandas._libs.parsers.TextReader.__cinit__\u001b[0;34m()\u001b[0m\n",
      "\u001b[0;31mEmptyDataError\u001b[0m: No columns to parse from file"
     ]
    }
   ],
   "source": [
    "process_pb_csv_flex(flex_folder_name)\n",
    "final_output_flex(flex_folder_name, input_smiles, passes=19)"
   ]
  },
  {
   "cell_type": "code",
   "execution_count": null,
   "id": "3962d33e-f294-4c69-af31-f23b2c785071",
   "metadata": {},
   "outputs": [],
   "source": []
  }
 ],
 "metadata": {
  "kernelspec": {
   "display_name": "Python 3 (ipykernel)",
   "language": "python",
   "name": "python3"
  },
  "language_info": {
   "codemirror_mode": {
    "name": "ipython",
    "version": 3
   },
   "file_extension": ".py",
   "mimetype": "text/x-python",
   "name": "python",
   "nbconvert_exporter": "python",
   "pygments_lexer": "ipython3",
   "version": "3.8.10"
  }
 },
 "nbformat": 4,
 "nbformat_minor": 5
}
