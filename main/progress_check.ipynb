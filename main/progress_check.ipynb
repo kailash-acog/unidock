{
 "cells": [
  {
   "cell_type": "code",
   "execution_count": 27,
   "id": "948346e0-d6bc-4591-a9ff-1a2599e046cd",
   "metadata": {},
   "outputs": [
    {
     "name": "stdout",
     "output_type": "stream",
     "text": [
      "\u001b[1m\u001b[34mGPU availability in own5: \u001b[91m100.00%\u001b[0m\n",
      "\u001b[1m\u001b[34mCPU availability in own5: \u001b[91m0.00%\u001b[0m\n"
     ]
    }
   ],
   "source": [
    "from z_docking_files.utils import *\n",
    "device = check_availability()"
   ]
  },
  {
   "cell_type": "code",
   "execution_count": 12,
   "id": "dc55182e-e8e2-4e95-ad12-1cdbb5eb1285",
   "metadata": {},
   "outputs": [],
   "source": [
    "folder_name = \"brd4_hll_flexible1\""
   ]
  },
  {
   "cell_type": "code",
   "execution_count": 3,
   "id": "39cc46ad-d9eb-4693-bc36-8c4b7a330529",
   "metadata": {},
   "outputs": [
    {
     "name": "stdout",
     "output_type": "stream",
     "text": [
      "472995\n"
     ]
    }
   ],
   "source": [
    "!ls -1 {folder_name}/pipeline_files/1_sdf | wc -l"
   ]
  },
  {
   "cell_type": "code",
   "execution_count": 4,
   "id": "96b719e8-a6cb-47cd-8f3b-bc44a02ba21c",
   "metadata": {},
   "outputs": [
    {
     "name": "stdout",
     "output_type": "stream",
     "text": [
      "472994\n"
     ]
    }
   ],
   "source": [
    "!ls -1 {folder_name}/pipeline_files/2_mol2 | wc -l"
   ]
  },
  {
   "cell_type": "code",
   "execution_count": 5,
   "id": "97714f8b-ea36-4099-a68b-72c6a2ba6f5a",
   "metadata": {},
   "outputs": [
    {
     "name": "stdout",
     "output_type": "stream",
     "text": [
      "472993\n"
     ]
    }
   ],
   "source": [
    "!ls -1 {folder_name}/pipeline_files/3_pdbqt | wc -l"
   ]
  },
  {
   "cell_type": "code",
   "execution_count": 6,
   "id": "ace19304-721a-4172-b65a-2c8dc539d62c",
   "metadata": {},
   "outputs": [
    {
     "name": "stdout",
     "output_type": "stream",
     "text": [
      "472992\n"
     ]
    }
   ],
   "source": [
    "!ls -1 {folder_name}/pipeline_files/4_smiles | wc -l"
   ]
  },
  {
   "cell_type": "code",
   "execution_count": 52,
   "id": "de81d6fa-c167-4a66-acb4-d6052597a895",
   "metadata": {},
   "outputs": [
    {
     "name": "stdout",
     "output_type": "stream",
     "text": [
      "CHEMBL1958347.pdbqt\n",
      "CHEMBL2017291.pdbqt\n",
      "CHEMBL2132936.pdbqt\n",
      "CHEMBL2153434.pdbqt\n",
      "CHEMBL2177300.pdbqt\n",
      "ls: write error: Broken pipe\n"
     ]
    }
   ],
   "source": [
    "!ls -1 {folder_name}/pipeline_files/5_pdbqt_for_docking | head -n 5"
   ]
  },
  {
   "cell_type": "code",
   "execution_count": 8,
   "id": "e4f5e88b",
   "metadata": {},
   "outputs": [
    {
     "name": "stdout",
     "output_type": "stream",
     "text": [
      "430158\n"
     ]
    }
   ],
   "source": [
    "!ls -1 {folder_name}/pipeline_files/6_pdbqt_out | wc -l"
   ]
  },
  {
   "cell_type": "code",
   "execution_count": 9,
   "id": "f2e2bd25-13d6-4637-9721-278af2238d3a",
   "metadata": {},
   "outputs": [
    {
     "name": "stdout",
     "output_type": "stream",
     "text": [
      "66575\n"
     ]
    }
   ],
   "source": [
    "!ls -1 {folder_name}/pipeline_files/7_pdbqt_out_threshold | wc -l"
   ]
  },
  {
   "cell_type": "code",
   "execution_count": 10,
   "id": "402a7f73-350f-4360-a5fc-7c638d59b327",
   "metadata": {},
   "outputs": [
    {
     "name": "stdout",
     "output_type": "stream",
     "text": [
      "66575\n"
     ]
    }
   ],
   "source": [
    "!ls -1 {folder_name}/pipeline_files/8_pdbqt_out_threshold_m1 | wc -l"
   ]
  },
  {
   "cell_type": "code",
   "execution_count": 11,
   "id": "2bbc47e9-32e8-4c41-86a8-29a155e8dcee",
   "metadata": {},
   "outputs": [
    {
     "name": "stdout",
     "output_type": "stream",
     "text": [
      "66574\n"
     ]
    }
   ],
   "source": [
    "!ls -1 {folder_name}/pipeline_files/9_mol2_out | wc -l"
   ]
  },
  {
   "cell_type": "code",
   "execution_count": 12,
   "id": "e627c148-325d-4acb-a03b-c6bb7e5c0800",
   "metadata": {},
   "outputs": [
    {
     "name": "stdout",
     "output_type": "stream",
     "text": [
      "66573\n"
     ]
    }
   ],
   "source": [
    "!ls -1 {folder_name}/pipeline_files/9_sdf_out | wc -l"
   ]
  },
  {
   "cell_type": "code",
   "execution_count": 17,
   "id": "72addd16-0cb9-4477-8238-f8caebcbbfa0",
   "metadata": {},
   "outputs": [
    {
     "name": "stdout",
     "output_type": "stream",
     "text": [
      "289\n"
     ]
    }
   ],
   "source": [
    "!expr $(tail -n +2 {folder_name}/pipeline_files/2_pb_out.csv | wc -l) / 2"
   ]
  },
  {
   "cell_type": "code",
   "execution_count": 15,
   "id": "aa17e5ea-a07f-4df1-8e00-695241d8ed28",
   "metadata": {},
   "outputs": [],
   "source": [
    "# !wc -l {folder_name}/output.csv"
   ]
  },
  {
   "cell_type": "code",
   "execution_count": 12,
   "id": "89df0d31-25c9-41ac-90e0-d9e1189ad85f",
   "metadata": {},
   "outputs": [],
   "source": [
    "# !cp {folder_name}/pipeline_files/8_sdf_out/ab_enamine100_out.sdf {folder_name}/pipeline_files/."
   ]
  },
  {
   "cell_type": "code",
   "execution_count": 29,
   "id": "c63be04b-b55a-4312-8bad-46a14edc2db5",
   "metadata": {},
   "outputs": [
    {
     "name": "stdout",
     "output_type": "stream",
     "text": [
      "ls: cannot access '{folder_name}/pipeline_files/1_sdf': No such file or directory\n"
     ]
    }
   ],
   "source": [
    "# !ls -1 {folder_name}/pipeline_files/1_sdf | head -n 100000 | xargs -I {} cp {} {folder_name}/pipeline_files/2_mol2"
   ]
  },
  {
   "cell_type": "code",
   "execution_count": null,
   "id": "e2b40240-5b79-4421-a7ae-de2721bcf7fe",
   "metadata": {},
   "outputs": [],
   "source": []
  },
  {
   "cell_type": "code",
   "execution_count": null,
   "id": "9c270ea8-efa9-4f79-9a63-96862d1ef127",
   "metadata": {},
   "outputs": [],
   "source": []
  },
  {
   "cell_type": "code",
   "execution_count": 53,
   "id": "745595cd-1aac-41ba-b938-2f8df5b3e9ae",
   "metadata": {},
   "outputs": [],
   "source": [
    "folder_name = \"brd4_hll_flexible\""
   ]
  },
  {
   "cell_type": "code",
   "execution_count": 54,
   "id": "61da2659-cda5-4f94-b371-8f021d698750",
   "metadata": {},
   "outputs": [
    {
     "name": "stdout",
     "output_type": "stream",
     "text": [
      "56\n"
     ]
    }
   ],
   "source": [
    "!ls -1 {folder_name}/pipeline_files/1_pdbqt_in_flex | wc -l"
   ]
  },
  {
   "cell_type": "code",
   "execution_count": 55,
   "id": "9428bd5b-9c17-49dd-b34f-528da4c6243c",
   "metadata": {},
   "outputs": [
    {
     "name": "stdout",
     "output_type": "stream",
     "text": [
      "56\n"
     ]
    }
   ],
   "source": [
    "!ls -1 {folder_name}/pipeline_files/2_pdbqt_out_flex | wc -l"
   ]
  },
  {
   "cell_type": "code",
   "execution_count": 56,
   "id": "6d3353d8-dde4-48c6-a475-b6d6e36f2edf",
   "metadata": {},
   "outputs": [
    {
     "name": "stdout",
     "output_type": "stream",
     "text": [
      "56\n"
     ]
    }
   ],
   "source": [
    "!ls -1 {folder_name}/pipeline_files/3_pdbqt_out_flex_m1 | wc -l"
   ]
  },
  {
   "cell_type": "code",
   "execution_count": 57,
   "id": "9e87ee8d-026f-466a-b691-0309c672db2e",
   "metadata": {},
   "outputs": [
    {
     "name": "stdout",
     "output_type": "stream",
     "text": [
      "55\n"
     ]
    }
   ],
   "source": [
    "!ls -1 {folder_name}/pipeline_files/4_mol2_out | wc -l"
   ]
  },
  {
   "cell_type": "code",
   "execution_count": 58,
   "id": "ae2e1e39-75cf-4fbf-b13a-54f0435235ac",
   "metadata": {},
   "outputs": [
    {
     "name": "stdout",
     "output_type": "stream",
     "text": [
      "54\n"
     ]
    }
   ],
   "source": [
    "!ls -1 {folder_name}/pipeline_files/5_sdf_out | wc -l"
   ]
  },
  {
   "cell_type": "code",
   "execution_count": null,
   "id": "01d1bcac-ff56-4bae-97ff-ce49f872de5a",
   "metadata": {},
   "outputs": [],
   "source": []
  }
 ],
 "metadata": {
  "kernelspec": {
   "display_name": "Python 3 (ipykernel)",
   "language": "python",
   "name": "python3"
  },
  "language_info": {
   "codemirror_mode": {
    "name": "ipython",
    "version": 3
   },
   "file_extension": ".py",
   "mimetype": "text/x-python",
   "name": "python",
   "nbconvert_exporter": "python",
   "pygments_lexer": "ipython3",
   "version": "3.8.10"
  }
 },
 "nbformat": 4,
 "nbformat_minor": 5
}
