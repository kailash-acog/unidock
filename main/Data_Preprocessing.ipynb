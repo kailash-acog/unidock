{
 "cells": [
  {
   "cell_type": "code",
   "execution_count": 29,
   "id": "e27098e0-549f-43f3-9b61-f7a5d1c2d2ca",
   "metadata": {},
   "outputs": [],
   "source": [
    "import os\n",
    "import zipfile\n",
    "import pandas as pd"
   ]
  },
  {
   "cell_type": "code",
   "execution_count": 2,
   "id": "e2600b0c-8cc1-43e6-9d71-447746303bee",
   "metadata": {},
   "outputs": [],
   "source": [
    "# zip_file_path = 'raw_files/FDA.and.Diversity.library.zip'\n",
    "# extract_to_path = 'raw_files/FDA_and_Diversity_library'\n",
    "\n",
    "# with zipfile.ZipFile(zip_file_path, 'r') as zip_ref:\n",
    "#     zip_ref.extractall(extract_to_path)"
   ]
  },
  {
   "cell_type": "code",
   "execution_count": 23,
   "id": "0d40e2aa-400d-4ab1-8e1d-42f7011ad761",
   "metadata": {},
   "outputs": [
    {
     "data": {
      "text/html": [
       "<div>\n",
       "<style scoped>\n",
       "    .dataframe tbody tr th:only-of-type {\n",
       "        vertical-align: middle;\n",
       "    }\n",
       "\n",
       "    .dataframe tbody tr th {\n",
       "        vertical-align: top;\n",
       "    }\n",
       "\n",
       "    .dataframe thead th {\n",
       "        text-align: right;\n",
       "    }\n",
       "</style>\n",
       "<table border=\"1\" class=\"dataframe\">\n",
       "  <thead>\n",
       "    <tr style=\"text-align: right;\">\n",
       "      <th></th>\n",
       "      <th>TAG</th>\n",
       "      <th>SMILES</th>\n",
       "    </tr>\n",
       "  </thead>\n",
       "  <tbody>\n",
       "    <tr>\n",
       "      <th>0</th>\n",
       "      <td>psl_enamine0</td>\n",
       "      <td>Cc1ccc(C)c(NC(=O)c2ccc3ccccc3n2)c1</td>\n",
       "    </tr>\n",
       "    <tr>\n",
       "      <th>1</th>\n",
       "      <td>psl_enamine1</td>\n",
       "      <td>O=c1cc(CSc2nnc(c3cccs3)n2Cc2ccccc2)nc2sc3ccccc...</td>\n",
       "    </tr>\n",
       "    <tr>\n",
       "      <th>2</th>\n",
       "      <td>psl_enamine2</td>\n",
       "      <td>CN(CCO)c1ccc(C=NNc2nncc3ccccc23)cc1</td>\n",
       "    </tr>\n",
       "    <tr>\n",
       "      <th>3</th>\n",
       "      <td>psl_enamine3</td>\n",
       "      <td>Cl.CNC(C)c1cc(F)ccc1Oc1ccc(Cl)cc1</td>\n",
       "    </tr>\n",
       "    <tr>\n",
       "      <th>4</th>\n",
       "      <td>psl_enamine4</td>\n",
       "      <td>CC(=NNC(=O)c1cccc(NN=C(C)c2cc(O)ccc2O)c1)c1cc(...</td>\n",
       "    </tr>\n",
       "  </tbody>\n",
       "</table>\n",
       "</div>"
      ],
      "text/plain": [
       "            TAG                                             SMILES\n",
       "0  psl_enamine0                 Cc1ccc(C)c(NC(=O)c2ccc3ccccc3n2)c1\n",
       "1  psl_enamine1  O=c1cc(CSc2nnc(c3cccs3)n2Cc2ccccc2)nc2sc3ccccc...\n",
       "2  psl_enamine2                CN(CCO)c1ccc(C=NNc2nncc3ccccc23)cc1\n",
       "3  psl_enamine3                  Cl.CNC(C)c1cc(F)ccc1Oc1ccc(Cl)cc1\n",
       "4  psl_enamine4  CC(=NNC(=O)c1cccc(NN=C(C)c2cc(O)ccc2O)c1)c1cc(..."
      ]
     },
     "metadata": {},
     "output_type": "display_data"
    },
    {
     "name": "stdout",
     "output_type": "stream",
     "text": [
      "(5760, 2)\n"
     ]
    }
   ],
   "source": [
    "df = pd.read_csv('raw_files/FDA_and_Diversity_library/8_Enamine_Phenotypic_Screening_Library.csv')\n",
    "display(df.head())\n",
    "print(df.shape)"
   ]
  },
  {
   "cell_type": "code",
   "execution_count": 24,
   "id": "a80b52fc-1367-4d83-8261-31a78c457c71",
   "metadata": {},
   "outputs": [
    {
     "data": {
      "text/plain": [
       "Index(['TAG', 'SMILES'], dtype='object')"
      ]
     },
     "execution_count": 24,
     "metadata": {},
     "output_type": "execute_result"
    }
   ],
   "source": [
    "df.columns"
   ]
  },
  {
   "cell_type": "code",
   "execution_count": 25,
   "id": "3cac8dd5-b3c2-44ac-9323-a0b7ac76d1e4",
   "metadata": {},
   "outputs": [
    {
     "data": {
      "text/html": [
       "<div>\n",
       "<style scoped>\n",
       "    .dataframe tbody tr th:only-of-type {\n",
       "        vertical-align: middle;\n",
       "    }\n",
       "\n",
       "    .dataframe tbody tr th {\n",
       "        vertical-align: top;\n",
       "    }\n",
       "\n",
       "    .dataframe thead th {\n",
       "        text-align: right;\n",
       "    }\n",
       "</style>\n",
       "<table border=\"1\" class=\"dataframe\">\n",
       "  <thead>\n",
       "    <tr style=\"text-align: right;\">\n",
       "      <th></th>\n",
       "      <th>Name</th>\n",
       "      <th>SMILES</th>\n",
       "    </tr>\n",
       "  </thead>\n",
       "  <tbody>\n",
       "    <tr>\n",
       "      <th>0</th>\n",
       "      <td>psl_enamine0</td>\n",
       "      <td>Cc1ccc(C)c(NC(=O)c2ccc3ccccc3n2)c1</td>\n",
       "    </tr>\n",
       "    <tr>\n",
       "      <th>1</th>\n",
       "      <td>psl_enamine1</td>\n",
       "      <td>O=c1cc(CSc2nnc(c3cccs3)n2Cc2ccccc2)nc2sc3ccccc...</td>\n",
       "    </tr>\n",
       "    <tr>\n",
       "      <th>2</th>\n",
       "      <td>psl_enamine2</td>\n",
       "      <td>CN(CCO)c1ccc(C=NNc2nncc3ccccc23)cc1</td>\n",
       "    </tr>\n",
       "    <tr>\n",
       "      <th>3</th>\n",
       "      <td>psl_enamine3</td>\n",
       "      <td>Cl.CNC(C)c1cc(F)ccc1Oc1ccc(Cl)cc1</td>\n",
       "    </tr>\n",
       "    <tr>\n",
       "      <th>4</th>\n",
       "      <td>psl_enamine4</td>\n",
       "      <td>CC(=NNC(=O)c1cccc(NN=C(C)c2cc(O)ccc2O)c1)c1cc(...</td>\n",
       "    </tr>\n",
       "  </tbody>\n",
       "</table>\n",
       "</div>"
      ],
      "text/plain": [
       "           Name                                             SMILES\n",
       "0  psl_enamine0                 Cc1ccc(C)c(NC(=O)c2ccc3ccccc3n2)c1\n",
       "1  psl_enamine1  O=c1cc(CSc2nnc(c3cccs3)n2Cc2ccccc2)nc2sc3ccccc...\n",
       "2  psl_enamine2                CN(CCO)c1ccc(C=NNc2nncc3ccccc23)cc1\n",
       "3  psl_enamine3                  Cl.CNC(C)c1cc(F)ccc1Oc1ccc(Cl)cc1\n",
       "4  psl_enamine4  CC(=NNC(=O)c1cccc(NN=C(C)c2cc(O)ccc2O)c1)c1cc(..."
      ]
     },
     "metadata": {},
     "output_type": "display_data"
    },
    {
     "name": "stdout",
     "output_type": "stream",
     "text": [
      "(5760, 2)\n"
     ]
    }
   ],
   "source": [
    "df = df.rename(columns={'TAG':'Name', 'SMILES': 'SMILES'})\n",
    "display(df.head())\n",
    "print(df.shape)"
   ]
  },
  {
   "cell_type": "code",
   "execution_count": 26,
   "id": "908d37ae-6645-4f08-bef7-18ea90ff057a",
   "metadata": {},
   "outputs": [
    {
     "data": {
      "text/html": [
       "<div>\n",
       "<style scoped>\n",
       "    .dataframe tbody tr th:only-of-type {\n",
       "        vertical-align: middle;\n",
       "    }\n",
       "\n",
       "    .dataframe tbody tr th {\n",
       "        vertical-align: top;\n",
       "    }\n",
       "\n",
       "    .dataframe thead th {\n",
       "        text-align: right;\n",
       "    }\n",
       "</style>\n",
       "<table border=\"1\" class=\"dataframe\">\n",
       "  <thead>\n",
       "    <tr style=\"text-align: right;\">\n",
       "      <th></th>\n",
       "      <th>Name</th>\n",
       "      <th>SMILES</th>\n",
       "    </tr>\n",
       "  </thead>\n",
       "  <tbody>\n",
       "    <tr>\n",
       "      <th>0</th>\n",
       "      <td>psl_enamine0</td>\n",
       "      <td>Cc1ccc(C)c(NC(=O)c2ccc3ccccc3n2)c1</td>\n",
       "    </tr>\n",
       "    <tr>\n",
       "      <th>1</th>\n",
       "      <td>psl_enamine1</td>\n",
       "      <td>O=c1cc(CSc2nnc(c3cccs3)n2Cc2ccccc2)nc2sc3ccccc...</td>\n",
       "    </tr>\n",
       "    <tr>\n",
       "      <th>2</th>\n",
       "      <td>psl_enamine2</td>\n",
       "      <td>CN(CCO)c1ccc(C=NNc2nncc3ccccc23)cc1</td>\n",
       "    </tr>\n",
       "    <tr>\n",
       "      <th>3</th>\n",
       "      <td>psl_enamine3</td>\n",
       "      <td>Cl.CNC(C)c1cc(F)ccc1Oc1ccc(Cl)cc1</td>\n",
       "    </tr>\n",
       "    <tr>\n",
       "      <th>4</th>\n",
       "      <td>psl_enamine4</td>\n",
       "      <td>CC(=NNC(=O)c1cccc(NN=C(C)c2cc(O)ccc2O)c1)c1cc(...</td>\n",
       "    </tr>\n",
       "  </tbody>\n",
       "</table>\n",
       "</div>"
      ],
      "text/plain": [
       "           Name                                             SMILES\n",
       "0  psl_enamine0                 Cc1ccc(C)c(NC(=O)c2ccc3ccccc3n2)c1\n",
       "1  psl_enamine1  O=c1cc(CSc2nnc(c3cccs3)n2Cc2ccccc2)nc2sc3ccccc...\n",
       "2  psl_enamine2                CN(CCO)c1ccc(C=NNc2nncc3ccccc23)cc1\n",
       "3  psl_enamine3                  Cl.CNC(C)c1cc(F)ccc1Oc1ccc(Cl)cc1\n",
       "4  psl_enamine4  CC(=NNC(=O)c1cccc(NN=C(C)c2cc(O)ccc2O)c1)c1cc(..."
      ]
     },
     "metadata": {},
     "output_type": "display_data"
    },
    {
     "name": "stdout",
     "output_type": "stream",
     "text": [
      "(5760, 2)\n"
     ]
    }
   ],
   "source": [
    "df['Name'] = df['Name'].str.replace(' ', '_')\n",
    "display(df.head())\n",
    "print(df.shape)"
   ]
  },
  {
   "cell_type": "code",
   "execution_count": 27,
   "id": "98279c37-79b8-46c2-824f-f306aac7a286",
   "metadata": {},
   "outputs": [],
   "source": [
    "df.to_csv('raw_files/FDA_and_Diversity_library_docking/8_Enamine_Phenotypic_Screening_Library.csv', index=False)"
   ]
  },
  {
   "cell_type": "code",
   "execution_count": null,
   "id": "0ae2d297-22d8-4de7-9e1f-38b3ac4bc436",
   "metadata": {},
   "outputs": [],
   "source": [
    "# !ls -1 minD_enamine_antibacterial/pipeline_files/ligands_sdf | wc -l"
   ]
  },
  {
   "cell_type": "code",
   "execution_count": 41,
   "id": "30f06c07-6e03-4107-88d5-e0a505c85e72",
   "metadata": {},
   "outputs": [
    {
     "data": {
      "text/html": [
       "<div>\n",
       "<style scoped>\n",
       "    .dataframe tbody tr th:only-of-type {\n",
       "        vertical-align: middle;\n",
       "    }\n",
       "\n",
       "    .dataframe tbody tr th {\n",
       "        vertical-align: top;\n",
       "    }\n",
       "\n",
       "    .dataframe thead th {\n",
       "        text-align: right;\n",
       "    }\n",
       "</style>\n",
       "<table border=\"1\" class=\"dataframe\">\n",
       "  <thead>\n",
       "    <tr style=\"text-align: right;\">\n",
       "      <th></th>\n",
       "      <th>Name</th>\n",
       "      <th>SMILES</th>\n",
       "    </tr>\n",
       "  </thead>\n",
       "  <tbody>\n",
       "    <tr>\n",
       "      <th>9</th>\n",
       "      <td>ab_enamine9</td>\n",
       "      <td>CN1CC=CCOCC2(CCNC2)C(=O)NCC2(CCOCC2)NC(=O)c2cc...</td>\n",
       "    </tr>\n",
       "    <tr>\n",
       "      <th>11</th>\n",
       "      <td>ab_enamine11</td>\n",
       "      <td>CC1OCCC=CCOCC2(CCNC2)C(=O)NCCN(C)C1=O.OC(=O)C(...</td>\n",
       "    </tr>\n",
       "    <tr>\n",
       "      <th>20</th>\n",
       "      <td>ab_enamine20</td>\n",
       "      <td>OC(=O)C(F)(F)F.O=C1CCCOCC=CCC2(CCNC2)C(=O)N2CC...</td>\n",
       "    </tr>\n",
       "    <tr>\n",
       "      <th>47</th>\n",
       "      <td>ab_enamine47</td>\n",
       "      <td>Cl.CNCC1CCCN(C1)S(=O)(=O)c1cccc(c1)S(=O)(=O)N</td>\n",
       "    </tr>\n",
       "    <tr>\n",
       "      <th>67</th>\n",
       "      <td>ab_enamine67</td>\n",
       "      <td>Cl.C[C@@H](NS(=O)(=O)CC1CCCC1(F)F)C(=O)O</td>\n",
       "    </tr>\n",
       "  </tbody>\n",
       "</table>\n",
       "</div>"
      ],
      "text/plain": [
       "            Name                                             SMILES\n",
       "9    ab_enamine9  CN1CC=CCOCC2(CCNC2)C(=O)NCC2(CCOCC2)NC(=O)c2cc...\n",
       "11  ab_enamine11  CC1OCCC=CCOCC2(CCNC2)C(=O)NCCN(C)C1=O.OC(=O)C(...\n",
       "20  ab_enamine20  OC(=O)C(F)(F)F.O=C1CCCOCC=CCC2(CCNC2)C(=O)N2CC...\n",
       "47  ab_enamine47      Cl.CNCC1CCCN(C1)S(=O)(=O)c1cccc(c1)S(=O)(=O)N\n",
       "67  ab_enamine67           Cl.C[C@@H](NS(=O)(=O)CC1CCCC1(F)F)C(=O)O"
      ]
     },
     "metadata": {},
     "output_type": "display_data"
    },
    {
     "name": "stdout",
     "output_type": "stream",
     "text": [
      "(502, 2)\n"
     ]
    }
   ],
   "source": [
    "folder_name = \"minD_antibact_obabel\"\n",
    "input_csv = \"input.csv\"\n",
    "input_smiles = os.path.join(folder_name, input_csv)\n",
    "df = pd.read_csv(input_smiles)\n",
    "\n",
    "df_salt = df[df['SMILES'].str.contains('\\.')].copy()\n",
    "display(df_salt.head())\n",
    "print(df_salt.shape)"
   ]
  },
  {
   "cell_type": "code",
   "execution_count": 42,
   "id": "a896aef5-4ec8-40ba-b28c-b584b8dc624b",
   "metadata": {},
   "outputs": [
    {
     "data": {
      "text/html": [
       "<div>\n",
       "<style scoped>\n",
       "    .dataframe tbody tr th:only-of-type {\n",
       "        vertical-align: middle;\n",
       "    }\n",
       "\n",
       "    .dataframe tbody tr th {\n",
       "        vertical-align: top;\n",
       "    }\n",
       "\n",
       "    .dataframe thead th {\n",
       "        text-align: right;\n",
       "    }\n",
       "</style>\n",
       "<table border=\"1\" class=\"dataframe\">\n",
       "  <thead>\n",
       "    <tr style=\"text-align: right;\">\n",
       "      <th></th>\n",
       "      <th>Name</th>\n",
       "      <th>SMILES</th>\n",
       "      <th>Affinity</th>\n",
       "    </tr>\n",
       "  </thead>\n",
       "  <tbody>\n",
       "    <tr>\n",
       "      <th>0</th>\n",
       "      <td>ab_enamine18517</td>\n",
       "      <td>Clc1ccc2cc1S(=O)(=O)N(C/C=C/COCC1(CCNCC1)C(=O)...</td>\n",
       "      <td>-9.294</td>\n",
       "    </tr>\n",
       "    <tr>\n",
       "      <th>1</th>\n",
       "      <td>ab_enamine2976</td>\n",
       "      <td>Cc1cccc(NC(=O)c2ccccc2NS(=O)(=O)c2ccc3NC(=O)CC...</td>\n",
       "      <td>-9.289</td>\n",
       "    </tr>\n",
       "    <tr>\n",
       "      <th>2</th>\n",
       "      <td>ab_enamine3409</td>\n",
       "      <td>FC(F)(F)c1cc(NS(=O)(=O)c2ccc3NC(=O)CC(=O)Nc3c2...</td>\n",
       "      <td>-9.265</td>\n",
       "    </tr>\n",
       "    <tr>\n",
       "      <th>3</th>\n",
       "      <td>ab_enamine23346</td>\n",
       "      <td>[O-][N+](=O)c1ccc2[nH]nc(C(=O)Nc3cccc(c3)c3nnn...</td>\n",
       "      <td>-9.236</td>\n",
       "    </tr>\n",
       "    <tr>\n",
       "      <th>4</th>\n",
       "      <td>ab_enamine1430</td>\n",
       "      <td>O=C1CC(=O)Nc2cc(ccc2N1)S(=O)(=O)Nc1ccc2nc(sc2c...</td>\n",
       "      <td>-9.200</td>\n",
       "    </tr>\n",
       "  </tbody>\n",
       "</table>\n",
       "</div>"
      ],
      "text/plain": [
       "              Name                                             SMILES  \\\n",
       "0  ab_enamine18517  Clc1ccc2cc1S(=O)(=O)N(C/C=C/COCC1(CCNCC1)C(=O)...   \n",
       "1   ab_enamine2976  Cc1cccc(NC(=O)c2ccccc2NS(=O)(=O)c2ccc3NC(=O)CC...   \n",
       "2   ab_enamine3409  FC(F)(F)c1cc(NS(=O)(=O)c2ccc3NC(=O)CC(=O)Nc3c2...   \n",
       "3  ab_enamine23346  [O-][N+](=O)c1ccc2[nH]nc(C(=O)Nc3cccc(c3)c3nnn...   \n",
       "4   ab_enamine1430  O=C1CC(=O)Nc2cc(ccc2N1)S(=O)(=O)Nc1ccc2nc(sc2c...   \n",
       "\n",
       "   Affinity  \n",
       "0    -9.294  \n",
       "1    -9.289  \n",
       "2    -9.265  \n",
       "3    -9.236  \n",
       "4    -9.200  "
      ]
     },
     "metadata": {},
     "output_type": "display_data"
    },
    {
     "name": "stdout",
     "output_type": "stream",
     "text": [
      "(2848, 3)\n"
     ]
    }
   ],
   "source": [
    "folder_name = \"minD_antibact_obabel\"\n",
    "output_csv = \"output.csv\"\n",
    "output_smiles = os.path.join(folder_name, output_csv)\n",
    "df_out = pd.read_csv(output_smiles)\n",
    "display(df_out.head())\n",
    "print(df_out.shape)"
   ]
  },
  {
   "cell_type": "code",
   "execution_count": 44,
   "id": "1187576f-5f34-40e3-9873-3b2737904ad0",
   "metadata": {},
   "outputs": [
    {
     "data": {
      "text/html": [
       "<div>\n",
       "<style scoped>\n",
       "    .dataframe tbody tr th:only-of-type {\n",
       "        vertical-align: middle;\n",
       "    }\n",
       "\n",
       "    .dataframe tbody tr th {\n",
       "        vertical-align: top;\n",
       "    }\n",
       "\n",
       "    .dataframe thead th {\n",
       "        text-align: right;\n",
       "    }\n",
       "</style>\n",
       "<table border=\"1\" class=\"dataframe\">\n",
       "  <thead>\n",
       "    <tr style=\"text-align: right;\">\n",
       "      <th></th>\n",
       "      <th>Name</th>\n",
       "      <th>Affinity</th>\n",
       "    </tr>\n",
       "  </thead>\n",
       "  <tbody>\n",
       "  </tbody>\n",
       "</table>\n",
       "</div>"
      ],
      "text/plain": [
       "Empty DataFrame\n",
       "Columns: [Name, Affinity]\n",
       "Index: []"
      ]
     },
     "metadata": {},
     "output_type": "display_data"
    },
    {
     "name": "stdout",
     "output_type": "stream",
     "text": [
      "Index(['Name', 'Affinity'], dtype='object')\n"
     ]
    }
   ],
   "source": [
    "df_merged = pd.merge(df_salt, df_out, on='Name', how='inner')\n",
    "df_merged = df_merged[['Name', 'Affinity']]\n",
    "\n",
    "display(df_merged.head())\n",
    "print(df_merged.columns)"
   ]
  },
  {
   "cell_type": "code",
   "execution_count": null,
   "id": "0f16a409-353b-4b69-9f10-4041a26c8771",
   "metadata": {},
   "outputs": [],
   "source": [
    "input_smiles = os.path.join(folder_name, input_csv)\n",
    "df = pd.read_csv(input_smiles)\n",
    "\n",
    "df_salt = df[df['SMILES'].str.contains('\\.')].copy()\n",
    "print(f\"\\033[1m\\033[34mNumber of salted compounds: \\033[91m{len(df_salt)}\\033[0m\")\n",
    "df_salt.to_csv(f'{folder_name}/salted_compounds.csv', index=False)\n",
    "\n",
    "df_no_salt = df[~df['SMILES'].str.contains('\\.')]\n",
    "display(df_no_salt.head())\n",
    "print(df_no_salt.shape)"
   ]
  }
 ],
 "metadata": {
  "kernelspec": {
   "display_name": "Python 3 (ipykernel)",
   "language": "python",
   "name": "python3"
  },
  "language_info": {
   "codemirror_mode": {
    "name": "ipython",
    "version": 3
   },
   "file_extension": ".py",
   "mimetype": "text/x-python",
   "name": "python",
   "nbconvert_exporter": "python",
   "pygments_lexer": "ipython3",
   "version": "3.8.10"
  }
 },
 "nbformat": 4,
 "nbformat_minor": 5
}
